{
 "cells": [
  {
   "cell_type": "code",
   "execution_count": 2,
   "metadata": {},
   "outputs": [
    {
     "name": "stdout",
     "output_type": "stream",
     "text": [
      "Colonnes disponibles : Index(['1. open', '2. high', '3. low', '4. close', '5. volume'], dtype='object')\n",
      "                   1. open         2. high          3. low        4. close  \\\n",
      "2024-02-27  54530.32000000  57646.81000000  54490.80000000  57077.07000000   \n",
      "2024-02-28  57077.08000000  64100.00000000  56723.48000000  62518.90000000   \n",
      "2024-02-29  62520.06000000  63675.48000000  60355.61000000  61179.03000000   \n",
      "2024-03-01  61179.03000000  63267.18000000  60788.33000000  62436.72000000   \n",
      "2024-03-02  62439.74000000  62500.00000000  61623.39000000  62045.78000000   \n",
      "\n",
      "                 5. volume  \n",
      "2024-02-27  28791.48651731  \n",
      "2024-02-28  48265.67211710  \n",
      "2024-02-29  36825.89535085  \n",
      "2024-03-01  24696.65692545  \n",
      "2024-03-02   6882.38410251  \n",
      "Les données historiques du Bitcoin depuis 2019 ont été sauvegardées dans bitcoin_historical_data.csv.\n"
     ]
    }
   ],
   "source": [
    "import requests\n",
    "import pandas as pd\n",
    "\n",
    "api_key = 'USPUXOQBZLMU75EH'\n",
    "\n",
    "crypto_symbol = 'BTC'\n",
    "market = 'USD'\n",
    "url = f'https://www.alphavantage.co/query?function=DIGITAL_CURRENCY_DAILY&symbol={crypto_symbol}&market={market}&apikey={api_key}'\n",
    "\n",
    "response = requests.get(url)\n",
    "if response.status_code != 200:\n",
    "    print(f\"Erreur : Impossible de récupérer les données (Code {response.status_code})\")\n",
    "    exit()\n",
    "\n",
    "data = response.json()\n",
    "\n",
    "if \"Time Series (Digital Currency Daily)\" not in data:\n",
    "    print(\"Erreur : Les données historiques ne sont pas disponibles.\")\n",
    "    exit()\n",
    "\n",
    "daily_data = data[\"Time Series (Digital Currency Daily)\"]\n",
    "\n",
    "df = pd.DataFrame.from_dict(daily_data, orient='index')\n",
    "\n",
    "print(\"Colonnes disponibles :\", df.columns)\n",
    "\n",
    "df = df.rename(columns={\n",
    "    \"1a. open (USD)\": \"Open Price (USD)\",\n",
    "    \"2a. high (USD)\": \"High Price (USD)\",\n",
    "    \"3a. low (USD)\": \"Low Price (USD)\",\n",
    "    \"4a. close (USD)\": \"Close Price (USD)\",\n",
    "    \"6. market cap (USD)\": \"Market Cap (USD)\"\n",
    "})\n",
    "\n",
    "df.index = pd.to_datetime(df.index)\n",
    "df.sort_index(inplace=True)\n",
    "\n",
    "df = df[df.index >= \"2019-01-01\"]\n",
    "\n",
    "output_file = \"bitcoin_historical_data.csv\"\n",
    "df.to_csv(output_file)\n",
    "\n",
    "print(df.head())\n",
    "print(f\"Les données historiques du Bitcoin depuis 2019 ont été sauvegardées dans {output_file}.\")\n"
   ]
  },
  {
   "cell_type": "code",
   "execution_count": 1,
   "metadata": {},
   "outputs": [
    {
     "name": "stdout",
     "output_type": "stream",
     "text": [
      "Les données historiques de l'or depuis 2019 ont été sauvegardées dans gold_historical_data_from_2019.csv.\n",
      "                 Open       High        Low      Close Volume\n",
      "2024-10-20  2720.9200  2725.1100  2719.6700  2723.5600      0\n",
      "2024-10-21  2723.5500  2740.6300  2714.2900  2721.5300      0\n",
      "2024-10-22  2721.5400  2749.0700  2720.7200  2746.6200      0\n",
      "2024-10-23  2746.6100  2758.5400  2708.8500  2721.3700      0\n",
      "2024-10-24  2721.3400  2743.2900  2717.9100  2733.8900      0\n"
     ]
    }
   ],
   "source": [
    "import requests\n",
    "import pandas as pd\n",
    "\n",
    "api_key = \"USPUXOQBZLMU75EH\"\n",
    "\n",
    "symbol = \"XAUUSD\"\n",
    "url = f\"https://www.alphavantage.co/query?function=TIME_SERIES_DAILY&symbol={symbol}&apikey={api_key}\"\n",
    "\n",
    "response = requests.get(url)\n",
    "\n",
    "if response.status_code != 200:\n",
    "    print(f\"Erreur : Impossible de récupérer les données (Code {response.status_code})\")\n",
    "    exit()\n",
    "\n",
    "data = response.json()\n",
    "\n",
    "if \"Time Series (Daily)\" not in data:\n",
    "    print(\"Erreur : Les données historiques ne sont pas disponibles.\")\n",
    "    exit()\n",
    "\n",
    "daily_data = data[\"Time Series (Daily)\"]\n",
    "df = pd.DataFrame.from_dict(daily_data, orient=\"index\")\n",
    "\n",
    "df.columns = [\"Open\", \"High\", \"Low\", \"Close\", \"Volume\"]\n",
    "df.index = pd.to_datetime(df.index)\n",
    "df.sort_index(inplace=True)\n",
    "\n",
    "df = df[df.index >= \"2019-01-01\"]\n",
    "\n",
    "output_file = \"gold_historical_data_from_2019.csv\"\n",
    "df.to_csv(output_file)\n",
    "\n",
    "print(f\"Les données historiques de l'or depuis 2019 ont été sauvegardées dans {output_file}.\")\n",
    "print(df.head())\n"
   ]
  }
 ],
 "metadata": {
  "kernelspec": {
   "display_name": "Python 3",
   "language": "python",
   "name": "python3"
  },
  "language_info": {
   "codemirror_mode": {
    "name": "ipython",
    "version": 3
   },
   "file_extension": ".py",
   "mimetype": "text/x-python",
   "name": "python",
   "nbconvert_exporter": "python",
   "pygments_lexer": "ipython3",
   "version": "3.12.7"
  }
 },
 "nbformat": 4,
 "nbformat_minor": 2
}
