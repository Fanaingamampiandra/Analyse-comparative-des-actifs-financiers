{
 "cells": [
  {
   "cell_type": "code",
   "execution_count": null,
   "metadata": {},
   "outputs": [],
   "source": [
    "import pandas as pd\n",
    "\n",
    "# Load the files\n",
    "indicateurs_df = pd.read_csv('/mnt/data/Indicateurs_economique.csv')\n",
    "rendement_df = pd.read_csv('/mnt/data/Rendement sans risque.csv')\n",
    "vix_df = pd.read_csv('/mnt/data/VIX_index.csv')\n",
    "bitcoin_df = pd.read_csv('/mnt/data/bitcoin_historical_data_cleaned.csv')\n",
    "gold_df = pd.read_csv('/mnt/data/gold_historical_data_cleaned.csv')\n",
    "sp500_df = pd.read_csv('/mnt/data/sp500_historical_data_cleaned.csv')\n",
    "\n",
    "# Display first few rows of each dataframe to understand their structure\n",
    "indicateurs_df.head(), rendement_df.head(), vix_df.head(), bitcoin_df.head(), gold_df.head(), sp500_df.head()\n"
   ]
  },
  {
   "cell_type": "code",
   "execution_count": null,
   "metadata": {},
   "outputs": [],
   "source": [
    "# First, let's clean and prepare the data.\n",
    "\n",
    "# Convert 'Date' columns to datetime type for all datasets\n",
    "indicateurs_df['Date'] = pd.to_datetime(indicateurs_df['Date'], format='%d/%m/%Y')\n",
    "rendement_df['Date'] = pd.to_datetime(rendement_df['Date'], format='%Y-%m-%d')\n",
    "vix_df['Date'] = pd.to_datetime(vix_df['Date'], format='%Y-%m-%d')\n",
    "bitcoin_df['Date'] = pd.to_datetime(bitcoin_df['Date'], format='%Y-%m-%d')\n",
    "gold_df['Date'] = pd.to_datetime(gold_df['Date'], format='%Y-%m-%d')\n",
    "sp500_df['Date'] = pd.to_datetime(sp500_df['Date'], format='%Y-%m-%d')\n",
    "\n",
    "# Fill missing values in \"R_F\" and \"VIX\" by using weekly averages\n",
    "# For \"R_F\" and \"VIX\", we will group by week and take the mean\n",
    "\n",
    "# Resample the data to weekly frequency, calculating mean for each week\n",
    "rendement_weekly = rendement_df.resample('W-Mon', on='Date')['R_F'].mean()\n",
    "vix_weekly = vix_df.resample('W-Mon', on='Date')['VIX'].mean()\n",
    "\n",
    "# Merge the weekly averages into a single DataFrame\n",
    "weekly_data = pd.DataFrame({\n",
    "    'Date': rendement_weekly.index,\n",
    "    'R_F_weekly': rendement_weekly.values,\n",
    "    'VIX_weekly': vix_weekly.values\n",
    "})\n",
    "\n",
    "# Display the first few rows of the weekly data to verify\n",
    "weekly_data.head()\n"
   ]
  },
  {
   "cell_type": "code",
   "execution_count": null,
   "metadata": {},
   "outputs": [],
   "source": [
    "# Checking the column names of the 'Indicateurs_economiques' dataframe\n",
    "indicateurs_df.columns\n"
   ]
  },
  {
   "cell_type": "code",
   "execution_count": null,
   "metadata": {},
   "outputs": [],
   "source": [
    "# Split the single column header into multiple headers\n",
    "indicateurs_df.columns = indicateurs_df.columns[0].split(';')\n",
    "\n",
    "# Now let's check the first few rows again after fixing the column names\n",
    "indicateurs_df.head()\n"
   ]
  },
  {
   "cell_type": "code",
   "execution_count": null,
   "metadata": {},
   "outputs": [],
   "source": [
    "# Reload the file with the correct delimiter (semicolon)\n",
    "indicateurs_df = pd.read_csv('/mnt/data/Indicateurs_economique.csv', delimiter=';')\n",
    "\n",
    "# Checking the column names again\n",
    "indicateurs_df.columns\n"
   ]
  },
  {
   "cell_type": "code",
   "execution_count": null,
   "metadata": {},
   "outputs": [],
   "source": [
    "# Resample the data to weekly frequency, calculating the mean for each week for \"R_F\" and \"VIX\"\n",
    "rendement_weekly = rendement_df.resample('W-Mon', on='Date')['R_F'].mean()\n",
    "vix_weekly = vix_df.resample('W-Mon', on='Date')['VIX'].mean()\n",
    "\n",
    "# Merge the weekly averages into a single DataFrame\n",
    "weekly_data = pd.DataFrame({\n",
    "    'Date': rendement_weekly.index,\n",
    "    'R_F_weekly': rendement_weekly.values,\n",
    "    'VIX_weekly': vix_weekly.values\n",
    "})\n",
    "\n",
    "# Display the first few rows of the weekly data\n",
    "weekly_data.head()\n"
   ]
  },
  {
   "cell_type": "code",
   "execution_count": null,
   "metadata": {},
   "outputs": [],
   "source": [
    "# Set 'Date' column as index for both datasets\n",
    "rendement_df.set_index('Date', inplace=True)\n",
    "vix_df.set_index('Date', inplace=True)\n",
    "\n",
    "# Now let's resample the data to weekly frequency and calculate the mean\n",
    "rendement_weekly = rendement_df['R_F'].resample('W-Mon').mean()\n",
    "vix_weekly = vix_df['VIX'].resample('W-Mon').mean()\n",
    "\n",
    "# Merge the weekly averages into a single DataFrame\n",
    "weekly_data = pd.DataFrame({\n",
    "    'Date': rendement_weekly.index,\n",
    "    'R_F_weekly': rendement_weekly.values,\n",
    "    'VIX_weekly': vix_weekly.values\n",
    "})\n",
    "\n",
    "# Display the first few rows of the weekly data\n",
    "weekly_data.head()\n"
   ]
  },
  {
   "cell_type": "code",
   "execution_count": null,
   "metadata": {},
   "outputs": [],
   "source": [
    "# Convert 'Date' column to datetime type explicitly for both dataframes\n",
    "rendement_df['Date'] = pd.to_datetime(rendement_df['Date'])\n",
    "vix_df['Date'] = pd.to_datetime(vix_df['Date'])\n",
    "\n",
    "# Set 'Date' column as index for both datasets\n",
    "rendement_df.set_index('Date', inplace=True)\n",
    "vix_df.set_index('Date', inplace=True)\n",
    "\n",
    "# Now let's resample the data to weekly frequency and calculate the mean\n",
    "rendement_weekly = rendement_df['R_F'].resample('W-Mon').mean()\n",
    "vix_weekly = vix_df['VIX'].resample('W-Mon').mean()\n",
    "\n",
    "# Merge the weekly averages into a single DataFrame\n",
    "weekly_data = pd.DataFrame({\n",
    "    'Date': rendement_weekly.index,\n",
    "    'R_F_weekly': rendement_weekly.values,\n",
    "    'VIX_weekly': vix_weekly.values\n",
    "})\n",
    "\n",
    "# Display the first few rows of the weekly data\n",
    "weekly_data.head()\n"
   ]
  },
  {
   "cell_type": "code",
   "execution_count": null,
   "metadata": {},
   "outputs": [],
   "source": [
    "# Display the column names and the first few rows of the 'rendement_df' dataframe to investigate the issue\n",
    "rendement_df.head(), rendement_df.columns\n"
   ]
  },
  {
   "cell_type": "code",
   "execution_count": null,
   "metadata": {},
   "outputs": [],
   "source": [
    "# Resample the data to weekly frequency using the index and calculate the mean\n",
    "rendement_weekly = rendement_df['R_F'].resample('W-Mon').mean()\n",
    "vix_weekly = vix_df['VIX'].resample('W-Mon').mean()\n",
    "\n",
    "# Merge the weekly averages into a single DataFrame\n",
    "weekly_data = pd.DataFrame({\n",
    "    'Date': rendement_weekly.index,\n",
    "    'R_F_weekly': rendement_weekly.values,\n",
    "    'VIX_weekly': vix_weekly.values\n",
    "})\n",
    "\n",
    "# Display the first few rows of the weekly data\n",
    "weekly_data.head()\n"
   ]
  },
  {
   "cell_type": "code",
   "execution_count": null,
   "metadata": {},
   "outputs": [],
   "source": []
  },
  {
   "cell_type": "code",
   "execution_count": null,
   "metadata": {},
   "outputs": [],
   "source": []
  },
  {
   "cell_type": "code",
   "execution_count": null,
   "metadata": {},
   "outputs": [],
   "source": []
  },
  {
   "cell_type": "code",
   "execution_count": null,
   "metadata": {},
   "outputs": [],
   "source": []
  },
  {
   "cell_type": "code",
   "execution_count": null,
   "metadata": {},
   "outputs": [],
   "source": []
  },
  {
   "cell_type": "code",
   "execution_count": null,
   "metadata": {},
   "outputs": [],
   "source": []
  },
  {
   "cell_type": "code",
   "execution_count": null,
   "metadata": {},
   "outputs": [],
   "source": []
  },
  {
   "cell_type": "code",
   "execution_count": null,
   "metadata": {},
   "outputs": [],
   "source": []
  }
 ],
 "metadata": {
  "language_info": {
   "name": "python"
  }
 },
 "nbformat": 4,
 "nbformat_minor": 2
}
