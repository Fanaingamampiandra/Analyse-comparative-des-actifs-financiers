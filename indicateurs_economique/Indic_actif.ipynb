{
 "cells": [
  {
   "cell_type": "code",
   "execution_count": 1,
   "metadata": {},
   "outputs": [
    {
     "data": {
      "text/plain": [
       "(  Date;Taux d interet;Indice de consommation;Taux d inflation\n",
       " 0                 01/01/2019;1.04043434;252.561;1.79         \n",
       " 1                 01/02/2019;1.06818285;253.319;1.88         \n",
       " 2                 01/03/2019;0.51720765;254.277;1.91         \n",
       " 3                 01/04/2019;0.42030375;255.233;1.94         \n",
       " 4                 01/05/2019;0.54042880;255.296;1.83         ,\n",
       "          Date   R_F\n",
       " 0  2015-01-02  2.12\n",
       " 1  2015-01-05  2.04\n",
       " 2  2015-01-06  1.97\n",
       " 3  2015-01-07  1.96\n",
       " 4  2015-01-08  2.03,\n",
       "          Date    VIX\n",
       " 0  2019-01-02  23.22\n",
       " 1  2019-01-03  25.45\n",
       " 2  2019-01-04  21.38\n",
       " 3  2019-01-07  21.40\n",
       " 4  2019-01-08  20.47,\n",
       "          Date    Close     High      Low     Open      Volume\n",
       " 0  2019-01-01  3843.52  3850.91  3707.23  3746.71  4324200990\n",
       " 1  2019-01-02  3943.41  3947.98  3817.41  3849.22  5244856836\n",
       " 2  2019-01-03  3836.74  3935.69  3826.22  3931.05  4530215219\n",
       " 3  2019-01-04  3857.72  3865.93  3783.85  3832.04  4847965467\n",
       " 4  2019-01-05  3845.19  3904.90  3836.90  3851.97  5137609824,\n",
       "          Date   Close    High     Low    Open  Volume\n",
       " 0  2019-01-02  1281.0  1286.0  1277.6  1286.0     149\n",
       " 1  2019-01-03  1291.8  1292.0  1286.7  1286.8      10\n",
       " 2  2019-01-04  1282.7  1294.2  1275.3  1294.2      34\n",
       " 3  2019-01-07  1286.8  1286.8  1286.6  1286.8       2\n",
       " 4  2019-01-08  1283.2  1283.2  1278.2  1280.5      54,\n",
       "          Date    Close     High      Low     Open      Volume\n",
       " 0  2019-01-02  2510.03  2519.49  2467.47  2476.96  3733160000\n",
       " 1  2019-01-03  2447.89  2493.14  2443.96  2491.92  3858830000\n",
       " 2  2019-01-04  2531.94  2538.07  2474.33  2474.33  4234140000\n",
       " 3  2019-01-07  2549.69  2566.16  2524.56  2535.61  4133120000\n",
       " 4  2019-01-08  2574.41  2579.82  2547.56  2568.11  4120060000)"
      ]
     },
     "execution_count": 1,
     "metadata": {},
     "output_type": "execute_result"
    }
   ],
   "source": [
    "import pandas as pd\n",
    "\n",
    "# Load the files\n",
    "indicateurs_df = pd.read_csv('Indicateurs_economique.csv')\n",
    "rendement_df = pd.read_csv('Rendement_sans_risque.csv')\n",
    "vix_df = pd.read_csv('VIX_index.csv')\n",
    "bitcoin_df = pd.read_csv('bitcoin_historical_data_cleaned.csv')\n",
    "gold_df = pd.read_csv('gold_historical_data_cleaned.csv')\n",
    "sp500_df = pd.read_csv('sp500_historical_data_cleaned.csv')\n",
    "\n",
    "# Display first few rows of each dataframe to understand their structure\n",
    "indicateurs_df.head(), rendement_df.head(), vix_df.head(), bitcoin_df.head(), gold_df.head(), sp500_df.head()\n"
   ]
  },
  {
   "cell_type": "code",
   "execution_count": 2,
   "metadata": {},
   "outputs": [
    {
     "ename": "KeyError",
     "evalue": "'Date'",
     "output_type": "error",
     "traceback": [
      "\u001b[1;31m---------------------------------------------------------------------------\u001b[0m",
      "\u001b[1;31mKeyError\u001b[0m                                  Traceback (most recent call last)",
      "File \u001b[1;32mc:\\Users\\Djo\\AppData\\Local\\Programs\\Python\\Python312\\Lib\\site-packages\\pandas\\core\\indexes\\base.py:3805\u001b[0m, in \u001b[0;36mIndex.get_loc\u001b[1;34m(self, key)\u001b[0m\n\u001b[0;32m   3804\u001b[0m \u001b[38;5;28;01mtry\u001b[39;00m:\n\u001b[1;32m-> 3805\u001b[0m     \u001b[38;5;28;01mreturn\u001b[39;00m \u001b[38;5;28;43mself\u001b[39;49m\u001b[38;5;241;43m.\u001b[39;49m\u001b[43m_engine\u001b[49m\u001b[38;5;241;43m.\u001b[39;49m\u001b[43mget_loc\u001b[49m\u001b[43m(\u001b[49m\u001b[43mcasted_key\u001b[49m\u001b[43m)\u001b[49m\n\u001b[0;32m   3806\u001b[0m \u001b[38;5;28;01mexcept\u001b[39;00m \u001b[38;5;167;01mKeyError\u001b[39;00m \u001b[38;5;28;01mas\u001b[39;00m err:\n",
      "File \u001b[1;32mindex.pyx:167\u001b[0m, in \u001b[0;36mpandas._libs.index.IndexEngine.get_loc\u001b[1;34m()\u001b[0m\n",
      "File \u001b[1;32mindex.pyx:196\u001b[0m, in \u001b[0;36mpandas._libs.index.IndexEngine.get_loc\u001b[1;34m()\u001b[0m\n",
      "File \u001b[1;32mpandas\\\\_libs\\\\hashtable_class_helper.pxi:7081\u001b[0m, in \u001b[0;36mpandas._libs.hashtable.PyObjectHashTable.get_item\u001b[1;34m()\u001b[0m\n",
      "File \u001b[1;32mpandas\\\\_libs\\\\hashtable_class_helper.pxi:7089\u001b[0m, in \u001b[0;36mpandas._libs.hashtable.PyObjectHashTable.get_item\u001b[1;34m()\u001b[0m\n",
      "\u001b[1;31mKeyError\u001b[0m: 'Date'",
      "\nThe above exception was the direct cause of the following exception:\n",
      "\u001b[1;31mKeyError\u001b[0m                                  Traceback (most recent call last)",
      "Cell \u001b[1;32mIn[2], line 4\u001b[0m\n\u001b[0;32m      1\u001b[0m \u001b[38;5;66;03m# First, let's clean and prepare the data.\u001b[39;00m\n\u001b[0;32m      2\u001b[0m \n\u001b[0;32m      3\u001b[0m \u001b[38;5;66;03m# Convert 'Date' columns to datetime type for all datasets\u001b[39;00m\n\u001b[1;32m----> 4\u001b[0m indicateurs_df[\u001b[38;5;124m'\u001b[39m\u001b[38;5;124mDate\u001b[39m\u001b[38;5;124m'\u001b[39m] \u001b[38;5;241m=\u001b[39m pd\u001b[38;5;241m.\u001b[39mto_datetime(\u001b[43mindicateurs_df\u001b[49m\u001b[43m[\u001b[49m\u001b[38;5;124;43m'\u001b[39;49m\u001b[38;5;124;43mDate\u001b[39;49m\u001b[38;5;124;43m'\u001b[39;49m\u001b[43m]\u001b[49m, \u001b[38;5;28mformat\u001b[39m\u001b[38;5;241m=\u001b[39m\u001b[38;5;124m'\u001b[39m\u001b[38;5;132;01m%d\u001b[39;00m\u001b[38;5;124m/\u001b[39m\u001b[38;5;124m%\u001b[39m\u001b[38;5;124mm/\u001b[39m\u001b[38;5;124m%\u001b[39m\u001b[38;5;124mY\u001b[39m\u001b[38;5;124m'\u001b[39m)\n\u001b[0;32m      5\u001b[0m rendement_df[\u001b[38;5;124m'\u001b[39m\u001b[38;5;124mDate\u001b[39m\u001b[38;5;124m'\u001b[39m] \u001b[38;5;241m=\u001b[39m pd\u001b[38;5;241m.\u001b[39mto_datetime(rendement_df[\u001b[38;5;124m'\u001b[39m\u001b[38;5;124mDate\u001b[39m\u001b[38;5;124m'\u001b[39m], \u001b[38;5;28mformat\u001b[39m\u001b[38;5;241m=\u001b[39m\u001b[38;5;124m'\u001b[39m\u001b[38;5;124m%\u001b[39m\u001b[38;5;124mY-\u001b[39m\u001b[38;5;124m%\u001b[39m\u001b[38;5;124mm-\u001b[39m\u001b[38;5;132;01m%d\u001b[39;00m\u001b[38;5;124m'\u001b[39m)\n\u001b[0;32m      6\u001b[0m vix_df[\u001b[38;5;124m'\u001b[39m\u001b[38;5;124mDate\u001b[39m\u001b[38;5;124m'\u001b[39m] \u001b[38;5;241m=\u001b[39m pd\u001b[38;5;241m.\u001b[39mto_datetime(vix_df[\u001b[38;5;124m'\u001b[39m\u001b[38;5;124mDate\u001b[39m\u001b[38;5;124m'\u001b[39m], \u001b[38;5;28mformat\u001b[39m\u001b[38;5;241m=\u001b[39m\u001b[38;5;124m'\u001b[39m\u001b[38;5;124m%\u001b[39m\u001b[38;5;124mY-\u001b[39m\u001b[38;5;124m%\u001b[39m\u001b[38;5;124mm-\u001b[39m\u001b[38;5;132;01m%d\u001b[39;00m\u001b[38;5;124m'\u001b[39m)\n",
      "File \u001b[1;32mc:\\Users\\Djo\\AppData\\Local\\Programs\\Python\\Python312\\Lib\\site-packages\\pandas\\core\\frame.py:4102\u001b[0m, in \u001b[0;36mDataFrame.__getitem__\u001b[1;34m(self, key)\u001b[0m\n\u001b[0;32m   4100\u001b[0m \u001b[38;5;28;01mif\u001b[39;00m \u001b[38;5;28mself\u001b[39m\u001b[38;5;241m.\u001b[39mcolumns\u001b[38;5;241m.\u001b[39mnlevels \u001b[38;5;241m>\u001b[39m \u001b[38;5;241m1\u001b[39m:\n\u001b[0;32m   4101\u001b[0m     \u001b[38;5;28;01mreturn\u001b[39;00m \u001b[38;5;28mself\u001b[39m\u001b[38;5;241m.\u001b[39m_getitem_multilevel(key)\n\u001b[1;32m-> 4102\u001b[0m indexer \u001b[38;5;241m=\u001b[39m \u001b[38;5;28;43mself\u001b[39;49m\u001b[38;5;241;43m.\u001b[39;49m\u001b[43mcolumns\u001b[49m\u001b[38;5;241;43m.\u001b[39;49m\u001b[43mget_loc\u001b[49m\u001b[43m(\u001b[49m\u001b[43mkey\u001b[49m\u001b[43m)\u001b[49m\n\u001b[0;32m   4103\u001b[0m \u001b[38;5;28;01mif\u001b[39;00m is_integer(indexer):\n\u001b[0;32m   4104\u001b[0m     indexer \u001b[38;5;241m=\u001b[39m [indexer]\n",
      "File \u001b[1;32mc:\\Users\\Djo\\AppData\\Local\\Programs\\Python\\Python312\\Lib\\site-packages\\pandas\\core\\indexes\\base.py:3812\u001b[0m, in \u001b[0;36mIndex.get_loc\u001b[1;34m(self, key)\u001b[0m\n\u001b[0;32m   3807\u001b[0m     \u001b[38;5;28;01mif\u001b[39;00m \u001b[38;5;28misinstance\u001b[39m(casted_key, \u001b[38;5;28mslice\u001b[39m) \u001b[38;5;129;01mor\u001b[39;00m (\n\u001b[0;32m   3808\u001b[0m         \u001b[38;5;28misinstance\u001b[39m(casted_key, abc\u001b[38;5;241m.\u001b[39mIterable)\n\u001b[0;32m   3809\u001b[0m         \u001b[38;5;129;01mand\u001b[39;00m \u001b[38;5;28many\u001b[39m(\u001b[38;5;28misinstance\u001b[39m(x, \u001b[38;5;28mslice\u001b[39m) \u001b[38;5;28;01mfor\u001b[39;00m x \u001b[38;5;129;01min\u001b[39;00m casted_key)\n\u001b[0;32m   3810\u001b[0m     ):\n\u001b[0;32m   3811\u001b[0m         \u001b[38;5;28;01mraise\u001b[39;00m InvalidIndexError(key)\n\u001b[1;32m-> 3812\u001b[0m     \u001b[38;5;28;01mraise\u001b[39;00m \u001b[38;5;167;01mKeyError\u001b[39;00m(key) \u001b[38;5;28;01mfrom\u001b[39;00m\u001b[38;5;250m \u001b[39m\u001b[38;5;21;01merr\u001b[39;00m\n\u001b[0;32m   3813\u001b[0m \u001b[38;5;28;01mexcept\u001b[39;00m \u001b[38;5;167;01mTypeError\u001b[39;00m:\n\u001b[0;32m   3814\u001b[0m     \u001b[38;5;66;03m# If we have a listlike key, _check_indexing_error will raise\u001b[39;00m\n\u001b[0;32m   3815\u001b[0m     \u001b[38;5;66;03m#  InvalidIndexError. Otherwise we fall through and re-raise\u001b[39;00m\n\u001b[0;32m   3816\u001b[0m     \u001b[38;5;66;03m#  the TypeError.\u001b[39;00m\n\u001b[0;32m   3817\u001b[0m     \u001b[38;5;28mself\u001b[39m\u001b[38;5;241m.\u001b[39m_check_indexing_error(key)\n",
      "\u001b[1;31mKeyError\u001b[0m: 'Date'"
     ]
    }
   ],
   "source": [
    "# First, let's clean and prepare the data.\n",
    "\n",
    "# Convert 'Date' columns to datetime type for all datasets\n",
    "indicateurs_df['Date'] = pd.to_datetime(indicateurs_df['Date'], format='%d/%m/%Y')\n",
    "rendement_df['Date'] = pd.to_datetime(rendement_df['Date'], format='%Y-%m-%d')\n",
    "vix_df['Date'] = pd.to_datetime(vix_df['Date'], format='%Y-%m-%d')\n",
    "bitcoin_df['Date'] = pd.to_datetime(bitcoin_df['Date'], format='%Y-%m-%d')\n",
    "gold_df['Date'] = pd.to_datetime(gold_df['Date'], format='%Y-%m-%d')\n",
    "sp500_df['Date'] = pd.to_datetime(sp500_df['Date'], format='%Y-%m-%d')\n",
    "\n",
    "# Fill missing values in \"R_F\" and \"VIX\" by using weekly averages\n",
    "# For \"R_F\" and \"VIX\", we will group by week and take the mean\n",
    "\n",
    "# Resample the data to weekly frequency, calculating mean for each week\n",
    "rendement_weekly = rendement_df.resample('W-Mon', on='Date')['R_F'].mean()\n",
    "vix_weekly = vix_df.resample('W-Mon', on='Date')['VIX'].mean()\n",
    "\n",
    "# Merge the weekly averages into a single DataFrame\n",
    "weekly_data = pd.DataFrame({\n",
    "    'Date': rendement_weekly.index,\n",
    "    'R_F_weekly': rendement_weekly.values,\n",
    "    'VIX_weekly': vix_weekly.values\n",
    "})\n",
    "\n",
    "# Display the first few rows of the weekly data to verify\n",
    "weekly_data.head()\n"
   ]
  },
  {
   "cell_type": "code",
   "execution_count": null,
   "metadata": {},
   "outputs": [],
   "source": [
    "# Checking the column names of the 'Indicateurs_economiques' dataframe\n",
    "indicateurs_df.columns\n"
   ]
  },
  {
   "cell_type": "code",
   "execution_count": null,
   "metadata": {},
   "outputs": [],
   "source": [
    "# Split the single column header into multiple headers\n",
    "indicateurs_df.columns = indicateurs_df.columns[0].split(';')\n",
    "\n",
    "# Now let's check the first few rows again after fixing the column names\n",
    "indicateurs_df.head()\n"
   ]
  },
  {
   "cell_type": "code",
   "execution_count": null,
   "metadata": {},
   "outputs": [],
   "source": [
    "# Reload the file with the correct delimiter (semicolon)\n",
    "indicateurs_df = pd.read_csv('/mnt/data/Indicateurs_economique.csv', delimiter=';')\n",
    "\n",
    "# Checking the column names again\n",
    "indicateurs_df.columns\n"
   ]
  },
  {
   "cell_type": "code",
   "execution_count": null,
   "metadata": {},
   "outputs": [],
   "source": [
    "# Resample the data to weekly frequency, calculating the mean for each week for \"R_F\" and \"VIX\"\n",
    "rendement_weekly = rendement_df.resample('W-Mon', on='Date')['R_F'].mean()\n",
    "vix_weekly = vix_df.resample('W-Mon', on='Date')['VIX'].mean()\n",
    "\n",
    "# Merge the weekly averages into a single DataFrame\n",
    "weekly_data = pd.DataFrame({\n",
    "    'Date': rendement_weekly.index,\n",
    "    'R_F_weekly': rendement_weekly.values,\n",
    "    'VIX_weekly': vix_weekly.values\n",
    "})\n",
    "\n",
    "# Display the first few rows of the weekly data\n",
    "weekly_data.head()\n"
   ]
  },
  {
   "cell_type": "code",
   "execution_count": null,
   "metadata": {},
   "outputs": [],
   "source": []
  },
  {
   "cell_type": "code",
   "execution_count": null,
   "metadata": {},
   "outputs": [],
   "source": [
    "# Set 'Date' column as index for both datasets\n",
    "rendement_df.set_index('Date', inplace=True)\n",
    "vix_df.set_index('Date', inplace=True)\n",
    "\n",
    "# Now let's resample the data to weekly frequency and calculate the mean\n",
    "rendement_weekly = rendement_df['R_F'].resample('W-Mon').mean()\n",
    "vix_weekly = vix_df['VIX'].resample('W-Mon').mean()\n",
    "\n",
    "# Merge the weekly averages into a single DataFrame\n",
    "weekly_data = pd.DataFrame({\n",
    "    'Date': rendement_weekly.index,\n",
    "    'R_F_weekly': rendement_weekly.values,\n",
    "    'VIX_weekly': vix_weekly.values\n",
    "})\n",
    "\n",
    "# Display the first few rows of the weekly data\n",
    "weekly_data.head()\n"
   ]
  },
  {
   "cell_type": "code",
   "execution_count": null,
   "metadata": {},
   "outputs": [],
   "source": [
    "# Convert 'Date' column to datetime type explicitly for both dataframes\n",
    "rendement_df['Date'] = pd.to_datetime(rendement_df['Date'])\n",
    "vix_df['Date'] = pd.to_datetime(vix_df['Date'])\n",
    "\n",
    "# Set 'Date' column as index for both datasets\n",
    "rendement_df.set_index('Date', inplace=True)\n",
    "vix_df.set_index('Date', inplace=True)\n",
    "\n",
    "# Now let's resample the data to weekly frequency and calculate the mean\n",
    "rendement_weekly = rendement_df['R_F'].resample('W-Mon').mean()\n",
    "vix_weekly = vix_df['VIX'].resample('W-Mon').mean()\n",
    "\n",
    "# Merge the weekly averages into a single DataFrame\n",
    "weekly_data = pd.DataFrame({\n",
    "    'Date': rendement_weekly.index,\n",
    "    'R_F_weekly': rendement_weekly.values,\n",
    "    'VIX_weekly': vix_weekly.values\n",
    "})\n",
    "\n",
    "# Display the first few rows of the weekly data\n",
    "weekly_data.head()\n"
   ]
  },
  {
   "cell_type": "code",
   "execution_count": null,
   "metadata": {},
   "outputs": [],
   "source": [
    "# Display the column names and the first few rows of the 'rendement_df' dataframe to investigate the issue\n",
    "rendement_df.head(), rendement_df.columns\n"
   ]
  },
  {
   "cell_type": "code",
   "execution_count": null,
   "metadata": {},
   "outputs": [],
   "source": [
    "# Resample the data to weekly frequency using the index and calculate the mean\n",
    "rendement_weekly = rendement_df['R_F'].resample('W-Mon').mean()\n",
    "vix_weekly = vix_df['VIX'].resample('W-Mon').mean()\n",
    "\n",
    "# Merge the weekly averages into a single DataFrame\n",
    "weekly_data = pd.DataFrame({\n",
    "    'Date': rendement_weekly.index,\n",
    "    'R_F_weekly': rendement_weekly.values,\n",
    "    'VIX_weekly': vix_weekly.values\n",
    "})\n",
    "\n",
    "# Display the first few rows of the weekly data\n",
    "weekly_data.head()\n"
   ]
  },
  {
   "cell_type": "code",
   "execution_count": null,
   "metadata": {},
   "outputs": [],
   "source": []
  },
  {
   "cell_type": "code",
   "execution_count": null,
   "metadata": {},
   "outputs": [],
   "source": []
  },
  {
   "cell_type": "code",
   "execution_count": null,
   "metadata": {},
   "outputs": [],
   "source": []
  },
  {
   "cell_type": "code",
   "execution_count": null,
   "metadata": {},
   "outputs": [],
   "source": []
  },
  {
   "cell_type": "code",
   "execution_count": null,
   "metadata": {},
   "outputs": [],
   "source": []
  },
  {
   "cell_type": "code",
   "execution_count": null,
   "metadata": {},
   "outputs": [],
   "source": []
  },
  {
   "cell_type": "code",
   "execution_count": null,
   "metadata": {},
   "outputs": [],
   "source": []
  },
  {
   "cell_type": "code",
   "execution_count": null,
   "metadata": {},
   "outputs": [],
   "source": []
  }
 ],
 "metadata": {
  "kernelspec": {
   "display_name": "Python 3",
   "language": "python",
   "name": "python3"
  },
  "language_info": {
   "codemirror_mode": {
    "name": "ipython",
    "version": 3
   },
   "file_extension": ".py",
   "mimetype": "text/x-python",
   "name": "python",
   "nbconvert_exporter": "python",
   "pygments_lexer": "ipython3",
   "version": "3.12.8"
  }
 },
 "nbformat": 4,
 "nbformat_minor": 2
}
