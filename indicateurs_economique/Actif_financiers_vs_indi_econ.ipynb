{
 "cells": [
  {
   "cell_type": "code",
   "execution_count": 2,
   "metadata": {},
   "outputs": [],
   "source": [
    "import pandas_ta as ta \n",
    "import pandas as pd\n",
    "import numpy as np\n",
    "import matplotlib.pyplot as plt\n",
    "import yfinance as yf\n"
   ]
  },
  {
   "cell_type": "code",
   "execution_count": null,
   "metadata": {},
   "outputs": [],
   "source": [
    "# Récupération des données du Bitcoin\n",
    "btc = yf.download('BTC-USD', start=\"2020-01-01\", end=\"2024-02-01\")\n",
    "btc['SMA'] = btc['Close'].rolling(window=20).mean()  # Moyenne mobile 20 jours\n",
    "btc['STD'] = btc['Close'].rolling(window=20).std()   # Écart-type sur 20 jours\n",
    "\n",
    "# Calcul des bandes de Bollinger\n",
    "btc['Upper'] = btc['SMA'] + (2 * btc['STD'])  # Bande supérieure\n",
    "btc['Lower'] = btc['SMA'] - (2 * btc['STD'])  # Bande inférieure\n",
    "\n",
    "# Tracé du graphique\n",
    "plt.figure(figsize=(12,6))\n",
    "plt.plot(btc['Close'], label=\"Prix Bitcoin\", color='blue')\n",
    "plt.plot(btc['SMA'], label=\"Moyenne Mobile (20j)\", color='black', linestyle='dashed')\n",
    "plt.plot(btc['Upper'], label=\"Bande Supérieure\", color='red', linestyle='dashed')\n",
    "plt.plot(btc['Lower'], label=\"Bande Inférieure\", color='green', linestyle='dashed')\n",
    "\n",
    "plt.fill_between(btc.index, btc['Upper'], btc['Lower'], color='gray', alpha=0.2)\n",
    "plt.title(\"Bandes de Bollinger – Bitcoin\")\n",
    "plt.legend()\n",
    "plt.show()\n"
   ]
  },
  {
   "cell_type": "code",
   "execution_count": null,
   "metadata": {},
   "outputs": [],
   "source": []
  },
  {
   "cell_type": "code",
   "execution_count": null,
   "metadata": {},
   "outputs": [],
   "source": []
  },
  {
   "cell_type": "code",
   "execution_count": null,
   "metadata": {},
   "outputs": [],
   "source": []
  }
 ],
 "metadata": {
  "kernelspec": {
   "display_name": "Python 3",
   "language": "python",
   "name": "python3"
  },
  "language_info": {
   "codemirror_mode": {
    "name": "ipython",
    "version": 3
   },
   "file_extension": ".py",
   "mimetype": "text/x-python",
   "name": "python",
   "nbconvert_exporter": "python",
   "pygments_lexer": "ipython3",
   "version": "3.12.8"
  }
 },
 "nbformat": 4,
 "nbformat_minor": 2
}
