{
 "cells": [
  {
   "cell_type": "markdown",
   "id": "e68b7e72",
   "metadata": {},
   "source": [
    "## Step 2: Filling Missing Values and Calculating Monthly Averages\n",
    "\n",
    "In this step, we will:\n",
    "1. Fill the missing values for 'Rendement sans risque' (Risk-Free Return) and 'VIX_index' using weekly averages.\n",
    "2. Calculate the monthly averages for 'Rendement sans risque' and 'VIX_index'.\n",
    "3. Append the monthly data for assets (Bitcoin, Gold, and S&P500) including close, open, high prices, and volumes.\n",
    "\n",
    "This will give us a consistent dataset with monthly data for analysis."
   ]
  },
  {
   "cell_type": "code",
   "execution_count": null,
   "id": "04dbf013",
   "metadata": {},
   "outputs": [],
   "source": [
    "\n",
    "# Now let's calculate the monthly averages for 'R_F' and 'VIX'\n",
    "rendement_monthly = rendement_df['R_F'].resample('M').mean()\n",
    "vix_monthly = vix_df['VIX'].resample('M').mean()\n",
    "\n",
    "# Now, calculate monthly data for Bitcoin, Gold, and S&P 500\n",
    "bitcoin_monthly = bitcoin_df.resample('M', on='Date').agg({'Close': 'mean', 'High': 'mean', 'Low': 'mean', 'Open': 'mean', 'Volume': 'sum'})\n",
    "gold_monthly = gold_df.resample('M', on='Date').agg({'Close': 'mean', 'High': 'mean', 'Low': 'mean', 'Open': 'mean', 'Volume': 'sum'})\n",
    "sp500_monthly = sp500_df.resample('M', on='Date').agg({'Close': 'mean', 'High': 'mean', 'Low': 'mean', 'Open': 'mean', 'Volume': 'sum'})\n",
    "\n",
    "# Merge all monthly data into a single DataFrame\n",
    "monthly_data = pd.concat([rendement_monthly, vix_monthly, bitcoin_monthly, gold_monthly, sp500_monthly], axis=1)\n",
    "\n",
    "# Display the merged monthly data\n",
    "monthly_data.head()\n"
   ]
  },
  {
   "cell_type": "markdown",
   "id": "d5df9db8",
   "metadata": {},
   "source": [
    "## Step 3: Exploratory Data Analysis (EDA)\n",
    "\n",
    "In this step, we will perform exploratory data analysis on the final dataset:\n",
    "1. We will examine the correlation between all the variables.\n",
    "2. We will visualize the relationships between key economic indicators and asset prices.\n",
    "\n",
    "This analysis will help identify potential trends and patterns in the data."
   ]
  },
  {
   "cell_type": "code",
   "execution_count": null,
   "id": "b37a48aa",
   "metadata": {},
   "outputs": [],
   "source": [
    "\n",
    "import seaborn as sns\n",
    "import matplotlib.pyplot as plt\n",
    "\n",
    "# Compute the correlation matrix\n",
    "correlation_matrix = monthly_data.corr()\n",
    "\n",
    "# Plot the correlation matrix\n",
    "plt.figure(figsize=(10, 8))\n",
    "sns.heatmap(correlation_matrix, annot=True, cmap='coolwarm', fmt='.2f', cbar=True)\n",
    "plt.title('Correlation Matrix of Economic Indicators and Asset Prices')\n",
    "plt.show()\n"
   ]
  },
  {
   "cell_type": "markdown",
   "id": "030cf3d2",
   "metadata": {},
   "source": [
    "## Step 4: Final Output\n",
    "\n",
    "Finally, we will save the processed monthly data to a CSV file named 'indic_actif_monthly.csv'. This file will contain all the monthly data for the economic indicators and asset prices.\n",
    "\n",
    "The following code saves the final DataFrame to CSV."
   ]
  },
  {
   "cell_type": "code",
   "execution_count": null,
   "id": "5fcb98ec",
   "metadata": {},
   "outputs": [],
   "source": [
    "\n",
    "# Save the final monthly data to a CSV file\n",
    "monthly_data.to_csv('/mnt/data/indic_actif_monthly.csv', index=True)\n",
    "\n",
    "# Display the first few rows of the saved file to verify\n",
    "monthly_data.head()\n"
   ]
  }
 ],
 "metadata": {},
 "nbformat": 4,
 "nbformat_minor": 5
}
