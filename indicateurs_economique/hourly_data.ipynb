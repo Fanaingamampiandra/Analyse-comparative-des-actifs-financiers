{
 "cells": [
  {
   "cell_type": "code",
   "execution_count": 1,
   "metadata": {},
   "outputs": [
    {
     "name": "stdout",
     "output_type": "stream",
     "text": [
      "Téléchargement des données pour S&P 500...\n",
      "Les données pour S&P 500 ont été enregistrées dans S&P 500_historical_data.csv\n",
      "Téléchargement des données pour Bitcoin...\n"
     ]
    },
    {
     "ename": "KeyError",
     "evalue": "'Time Series Crypto (5min)'",
     "output_type": "error",
     "traceback": [
      "\u001b[1;31m---------------------------------------------------------------------------\u001b[0m",
      "\u001b[1;31mKeyError\u001b[0m                                  Traceback (most recent call last)",
      "Cell \u001b[1;32mIn[1], line 45\u001b[0m\n\u001b[0;32m     43\u001b[0m \u001b[38;5;28;01melif\u001b[39;00m asset_info[\u001b[38;5;124m'\u001b[39m\u001b[38;5;124mfunction\u001b[39m\u001b[38;5;124m'\u001b[39m] \u001b[38;5;241m==\u001b[39m \u001b[38;5;124m'\u001b[39m\u001b[38;5;124mDIGITAL_CURRENCY_INTRADAY\u001b[39m\u001b[38;5;124m'\u001b[39m:\n\u001b[0;32m     44\u001b[0m     time_series_key \u001b[38;5;241m=\u001b[39m \u001b[38;5;124m'\u001b[39m\u001b[38;5;124mTime Series Crypto (5min)\u001b[39m\u001b[38;5;124m'\u001b[39m\n\u001b[1;32m---> 45\u001b[0m     df \u001b[38;5;241m=\u001b[39m pd\u001b[38;5;241m.\u001b[39mDataFrame\u001b[38;5;241m.\u001b[39mfrom_dict(\u001b[43mdata\u001b[49m\u001b[43m[\u001b[49m\u001b[43mtime_series_key\u001b[49m\u001b[43m]\u001b[49m, orient\u001b[38;5;241m=\u001b[39m\u001b[38;5;124m'\u001b[39m\u001b[38;5;124mindex\u001b[39m\u001b[38;5;124m'\u001b[39m)\n\u001b[0;32m     46\u001b[0m     df\u001b[38;5;241m.\u001b[39mcolumns \u001b[38;5;241m=\u001b[39m [\u001b[38;5;124m'\u001b[39m\u001b[38;5;124mOpen (USD)\u001b[39m\u001b[38;5;124m'\u001b[39m, \u001b[38;5;124m'\u001b[39m\u001b[38;5;124mHigh (USD)\u001b[39m\u001b[38;5;124m'\u001b[39m, \u001b[38;5;124m'\u001b[39m\u001b[38;5;124mLow (USD)\u001b[39m\u001b[38;5;124m'\u001b[39m, \u001b[38;5;124m'\u001b[39m\u001b[38;5;124mClose (USD)\u001b[39m\u001b[38;5;124m'\u001b[39m, \u001b[38;5;124m'\u001b[39m\u001b[38;5;124mVolume\u001b[39m\u001b[38;5;124m'\u001b[39m, \u001b[38;5;124m'\u001b[39m\u001b[38;5;124mMarket Cap (USD)\u001b[39m\u001b[38;5;124m'\u001b[39m]\n\u001b[0;32m     47\u001b[0m \u001b[38;5;28;01melse\u001b[39;00m:\n",
      "\u001b[1;31mKeyError\u001b[0m: 'Time Series Crypto (5min)'"
     ]
    }
   ],
   "source": [
    "import requests\n",
    "import pandas as pd\n",
    "from datetime import datetime, timedelta\n",
    "\n",
    "# Votre clé API Alpha Vantage\n",
    "api_key = '3UGFQBY1X5H1BVP0'\n",
    "interval = \"60min\"  # Exemple : Données toutes les 60 minutes\n",
    "\n",
    "\n",
    "# Dictionnaire des symboles et types d'actifs\n",
    "assets = {\n",
    "    'S&P 500': {'symbol': 'SPY', 'function': 'TIME_SERIES_INTRADAY', 'market': 'USD'},\n",
    "    'Bitcoin': {'symbol': 'BTC', 'function': 'DIGITAL_CURRENCY_INTRADAY', 'market': 'USD'},\n",
    "    'Or': {'symbol': 'XAU', 'function': 'TIME_SERIES_INTRADAY', 'market': 'USD'}\n",
    "}\n",
    "\n",
    "# Date de début et de fin\n",
    "start_date = datetime(2024, 3, 1)\n",
    "end_date = datetime.now()\n",
    "\n",
    "# Fonction pour récupérer les données\n",
    "def fetch_data(symbol, function, market, interval='60min'):\n",
    "    if function == 'TIME_SERIES_INTRADAY':\n",
    "        url = f'https://www.alphavantage.co/query?function={function}&symbol={symbol}&interval={interval}&apikey={api_key}'\n",
    "    elif function == 'DIGITAL_CURRENCY_INTRADAY':\n",
    "        url = f'https://www.alphavantage.co/query?function={function}&symbol={symbol}&market={market}&apikey={api_key}'\n",
    "    else:\n",
    "        raise ValueError(\"Fonction non supportée\")\n",
    "    response = requests.get(url)\n",
    "    data = response.json()\n",
    "    return data\n",
    "\n",
    "# Parcourir chaque actif et récupérer les données\n",
    "for asset_name, asset_info in assets.items():\n",
    "    print(f\"Téléchargement des données pour {asset_name}...\")\n",
    "    data = fetch_data(asset_info['symbol'], asset_info['function'], asset_info['market'])\n",
    "    \n",
    "    # Traitement des données en fonction du type d'actif\n",
    "    if asset_info['function'] == 'TIME_SERIES_INTRADAY':\n",
    "        time_series_key = f'Time Series ({interval})'\n",
    "        df = pd.DataFrame.from_dict(data[time_series_key], orient='index')\n",
    "        df.columns = ['Open', 'High', 'Low', 'Close', 'Volume']\n",
    "    elif asset_info['function'] == 'DIGITAL_CURRENCY_INTRADAY':\n",
    "        time_series_key = 'Time Series Crypto (5min)'\n",
    "        df = pd.DataFrame.from_dict(data[time_series_key], orient='index')\n",
    "        df.columns = ['Open (USD)', 'High (USD)', 'Low (USD)', 'Close (USD)', 'Volume', 'Market Cap (USD)']\n",
    "    else:\n",
    "        continue\n",
    "\n",
    "    # Conversion de l'index en datetime\n",
    "    df.index = pd.to_datetime(df.index)\n",
    "\n",
    "    # Filtrer les données entre les dates de début et de fin\n",
    "    df = df[(df.index >= start_date) & (df.index <= end_date)]\n",
    "\n",
    "    # Enregistrer les données dans un fichier CSV\n",
    "    df.to_csv(f'{asset_name}_historical_data.csv')\n",
    "    print(f\"Les données pour {asset_name} ont été enregistrées dans {asset_name}_historical_data.csv\")\n",
    "\n",
    "print(\"Téléchargement terminé.\")\n"
   ]
  },
  {
   "cell_type": "code",
   "execution_count": null,
   "metadata": {},
   "outputs": [],
   "source": []
  }
 ],
 "metadata": {
  "kernelspec": {
   "display_name": "Python 3",
   "language": "python",
   "name": "python3"
  },
  "language_info": {
   "codemirror_mode": {
    "name": "ipython",
    "version": 3
   },
   "file_extension": ".py",
   "mimetype": "text/x-python",
   "name": "python",
   "nbconvert_exporter": "python",
   "pygments_lexer": "ipython3",
   "version": "3.12.8"
  }
 },
 "nbformat": 4,
 "nbformat_minor": 2
}
