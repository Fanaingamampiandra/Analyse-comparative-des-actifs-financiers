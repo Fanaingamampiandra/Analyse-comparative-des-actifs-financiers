{
 "cells": [
  {
   "cell_type": "code",
   "execution_count": 1,
   "metadata": {},
   "outputs": [],
   "source": [
    "import pandas as pd \n",
    "import numpy as np"
   ]
  },
  {
   "cell_type": "code",
   "execution_count": 3,
   "metadata": {},
   "outputs": [],
   "source": [
    "df1=pd.read_csv(\"D:/Analyse-comparative-des-actifs-financiers/bitcoin_historical_data_cleaned.csv\")\n",
    "df2=pd.read_csv(\"D:/Analyse-comparative-des-actifs-financiers/results_btc.csv\")\n",
    "\n",
    "df3=pd.read_csv(\"D:/Analyse-comparative-des-actifs-financiers/gold_historical_data_cleaned.csv\")\n",
    "df4=pd.read_csv(\"D:/Analyse-comparative-des-actifs-financiers/results_gold.csv\")\n",
    "\n",
    "df5=pd.read_csv(\"D:/Analyse-comparative-des-actifs-financiers/sp500_historical_data_cleaned.csv\")\n",
    "df6=pd.read_csv(\"D:/Analyse-comparative-des-actifs-financiers/results_sp500.csv\")"
   ]
  },
  {
   "cell_type": "code",
   "execution_count": null,
   "metadata": {},
   "outputs": [],
   "source": [
    "# Fusion des DataFrames \n",
    "df_combined_btc = pd.concat([df1, df2], axis=1)\n",
    "df_combined_gold = pd.concat([df3, df4], axis=1)\n",
    "df_combined_sp500 = pd.concat([df5, df6], axis=1)\n",
    "\n",
    "# Enregistrement des fichier CSV\n",
    "df_combined_btc.to_csv(\"D:/Analyse-comparative-des-actifs-financiers/btc.csv\", index=False)\n",
    "df_combined_gold.to_csv(\"D:/Analyse-comparative-des-actifs-financiers/gold.csv\", index=False)\n",
    "df_combined_sp500.to_csv(\"D:/Analyse-comparative-des-actifs-financiers/sp500.csv\", index=False)"
   ]
  }
 ],
 "metadata": {
  "kernelspec": {
   "display_name": "Python 3",
   "language": "python",
   "name": "python3"
  },
  "language_info": {
   "codemirror_mode": {
    "name": "ipython",
    "version": 3
   },
   "file_extension": ".py",
   "mimetype": "text/x-python",
   "name": "python",
   "nbconvert_exporter": "python",
   "pygments_lexer": "ipython3",
   "version": "3.12.9"
  }
 },
 "nbformat": 4,
 "nbformat_minor": 2
}
