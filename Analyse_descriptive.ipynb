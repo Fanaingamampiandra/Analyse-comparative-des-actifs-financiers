{
 "cells": [
  {
   "cell_type": "code",
   "execution_count": 38,
   "metadata": {},
   "outputs": [],
   "source": [
    "import pandas as pd\n",
    "import numpy as np\n",
    "import matplotlib.pyplot as plt \n",
    "import seaborn as sns\n",
    "import datetime"
   ]
  },
  {
   "cell_type": "code",
   "execution_count": 39,
   "metadata": {},
   "outputs": [],
   "source": [
    "def upload_and_parse_dates(file_path):\n",
    "    # Load the CSV file and parse the 'Date' column in DD/MM/YYYY format without time\n",
    "    df = pd.read_csv(file_path, parse_dates=['Date'])\n",
    "    df = df.sort_values(by='Date', ascending=True)  # Sort by date in ascending order\n",
    "    for col in df.columns:\n",
    "        if col !=\"Date\":\n",
    "            df[col]=pd.to_numeric(df[col],errors=\"coerce\")\n",
    "    return df"
   ]
  },
  {
   "cell_type": "code",
   "execution_count": 40,
   "metadata": {},
   "outputs": [],
   "source": [
    "btc_data=upload_and_parse_dates(\"bitcoin_historical_data_cleaned.csv\")\n",
    "sp500_data=upload_and_parse_dates(\"sp500_historical_data_cleaned.csv\")\n",
    "gold_data=upload_and_parse_dates(\"gold_historical_data_cleaned.csv\")"
   ]
  },
  {
   "cell_type": "code",
   "execution_count": 41,
   "metadata": {},
   "outputs": [
    {
     "data": {
      "application/vnd.microsoft.datawrangler.viewer.v0+json": {
       "columns": [
        {
         "name": "index",
         "rawType": "object",
         "type": "string"
        },
        {
         "name": "Date",
         "rawType": "object",
         "type": "unknown"
        },
        {
         "name": "Close",
         "rawType": "float64",
         "type": "float"
        },
        {
         "name": "High",
         "rawType": "float64",
         "type": "float"
        },
        {
         "name": "Low",
         "rawType": "float64",
         "type": "float"
        },
        {
         "name": "Open",
         "rawType": "float64",
         "type": "float"
        },
        {
         "name": "Volume",
         "rawType": "float64",
         "type": "float"
        }
       ],
       "conversionMethod": "pd.DataFrame",
       "ref": "eb2f2c05-b84a-41e4-abe8-e6e51014b07d",
       "rows": [
        [
         "count",
         "2232",
         "2232.0",
         "2232.0",
         "2232.0",
         "2232.0",
         "2232.0"
        ],
        [
         "mean",
         "2022-01-20 12:00:00",
         "32720.074108422938",
         "33397.09705645161",
         "31939.574220430106",
         "32680.52531362007",
         "30856890237.560482"
        ],
        [
         "min",
         "2019-01-01 00:00:00",
         "3399.47",
         "3427.95",
         "3391.02",
         "3401.38",
         "4324200990.0"
        ],
        [
         "25%",
         "2020-07-11 18:00:00",
         "10689.75",
         "10896.46",
         "10447.1375",
         "10677.445",
         "18039167833.0"
        ],
        [
         "50%",
         "2022-01-20 12:00:00",
         "27794.805",
         "28305.765",
         "27245.495000000003",
         "27781.83",
         "27038118582.0"
        ],
        [
         "75%",
         "2023-08-01 06:00:00",
         "47286.945",
         "48476.104999999996",
         "46444.4725",
         "47291.0325",
         "38181851384.75"
        ],
        [
         "max",
         "2025-02-09 00:00:00",
         "106146.27",
         "109114.88",
         "105291.73",
         "106147.3",
         "350967941479.0"
        ],
        [
         "std",
         null,
         "23705.349336898773",
         "24194.38498387237",
         "23145.63081112426",
         "23677.004904328263",
         "19468710478.044437"
        ]
       ],
       "shape": {
        "columns": 6,
        "rows": 8
       }
      },
      "text/html": [
       "<div>\n",
       "<style scoped>\n",
       "    .dataframe tbody tr th:only-of-type {\n",
       "        vertical-align: middle;\n",
       "    }\n",
       "\n",
       "    .dataframe tbody tr th {\n",
       "        vertical-align: top;\n",
       "    }\n",
       "\n",
       "    .dataframe thead th {\n",
       "        text-align: right;\n",
       "    }\n",
       "</style>\n",
       "<table border=\"1\" class=\"dataframe\">\n",
       "  <thead>\n",
       "    <tr style=\"text-align: right;\">\n",
       "      <th></th>\n",
       "      <th>Date</th>\n",
       "      <th>Close</th>\n",
       "      <th>High</th>\n",
       "      <th>Low</th>\n",
       "      <th>Open</th>\n",
       "      <th>Volume</th>\n",
       "    </tr>\n",
       "  </thead>\n",
       "  <tbody>\n",
       "    <tr>\n",
       "      <th>count</th>\n",
       "      <td>2232</td>\n",
       "      <td>2232.000000</td>\n",
       "      <td>2232.000000</td>\n",
       "      <td>2232.000000</td>\n",
       "      <td>2232.000000</td>\n",
       "      <td>2.232000e+03</td>\n",
       "    </tr>\n",
       "    <tr>\n",
       "      <th>mean</th>\n",
       "      <td>2022-01-20 12:00:00</td>\n",
       "      <td>32720.074108</td>\n",
       "      <td>33397.097056</td>\n",
       "      <td>31939.574220</td>\n",
       "      <td>32680.525314</td>\n",
       "      <td>3.085689e+10</td>\n",
       "    </tr>\n",
       "    <tr>\n",
       "      <th>min</th>\n",
       "      <td>2019-01-01 00:00:00</td>\n",
       "      <td>3399.470000</td>\n",
       "      <td>3427.950000</td>\n",
       "      <td>3391.020000</td>\n",
       "      <td>3401.380000</td>\n",
       "      <td>4.324201e+09</td>\n",
       "    </tr>\n",
       "    <tr>\n",
       "      <th>25%</th>\n",
       "      <td>2020-07-11 18:00:00</td>\n",
       "      <td>10689.750000</td>\n",
       "      <td>10896.460000</td>\n",
       "      <td>10447.137500</td>\n",
       "      <td>10677.445000</td>\n",
       "      <td>1.803917e+10</td>\n",
       "    </tr>\n",
       "    <tr>\n",
       "      <th>50%</th>\n",
       "      <td>2022-01-20 12:00:00</td>\n",
       "      <td>27794.805000</td>\n",
       "      <td>28305.765000</td>\n",
       "      <td>27245.495000</td>\n",
       "      <td>27781.830000</td>\n",
       "      <td>2.703812e+10</td>\n",
       "    </tr>\n",
       "    <tr>\n",
       "      <th>75%</th>\n",
       "      <td>2023-08-01 06:00:00</td>\n",
       "      <td>47286.945000</td>\n",
       "      <td>48476.105000</td>\n",
       "      <td>46444.472500</td>\n",
       "      <td>47291.032500</td>\n",
       "      <td>3.818185e+10</td>\n",
       "    </tr>\n",
       "    <tr>\n",
       "      <th>max</th>\n",
       "      <td>2025-02-09 00:00:00</td>\n",
       "      <td>106146.270000</td>\n",
       "      <td>109114.880000</td>\n",
       "      <td>105291.730000</td>\n",
       "      <td>106147.300000</td>\n",
       "      <td>3.509679e+11</td>\n",
       "    </tr>\n",
       "    <tr>\n",
       "      <th>std</th>\n",
       "      <td>NaN</td>\n",
       "      <td>23705.349337</td>\n",
       "      <td>24194.384984</td>\n",
       "      <td>23145.630811</td>\n",
       "      <td>23677.004904</td>\n",
       "      <td>1.946871e+10</td>\n",
       "    </tr>\n",
       "  </tbody>\n",
       "</table>\n",
       "</div>"
      ],
      "text/plain": [
       "                      Date          Close           High            Low  \\\n",
       "count                 2232    2232.000000    2232.000000    2232.000000   \n",
       "mean   2022-01-20 12:00:00   32720.074108   33397.097056   31939.574220   \n",
       "min    2019-01-01 00:00:00    3399.470000    3427.950000    3391.020000   \n",
       "25%    2020-07-11 18:00:00   10689.750000   10896.460000   10447.137500   \n",
       "50%    2022-01-20 12:00:00   27794.805000   28305.765000   27245.495000   \n",
       "75%    2023-08-01 06:00:00   47286.945000   48476.105000   46444.472500   \n",
       "max    2025-02-09 00:00:00  106146.270000  109114.880000  105291.730000   \n",
       "std                    NaN   23705.349337   24194.384984   23145.630811   \n",
       "\n",
       "                Open        Volume  \n",
       "count    2232.000000  2.232000e+03  \n",
       "mean    32680.525314  3.085689e+10  \n",
       "min      3401.380000  4.324201e+09  \n",
       "25%     10677.445000  1.803917e+10  \n",
       "50%     27781.830000  2.703812e+10  \n",
       "75%     47291.032500  3.818185e+10  \n",
       "max    106147.300000  3.509679e+11  \n",
       "std     23677.004904  1.946871e+10  "
      ]
     },
     "execution_count": 41,
     "metadata": {},
     "output_type": "execute_result"
    }
   ],
   "source": [
    "#Statistique descriptive \n",
    "btc_data.describe()\n"
   ]
  },
  {
   "cell_type": "code",
   "execution_count": 42,
   "metadata": {},
   "outputs": [
    {
     "data": {
      "application/vnd.microsoft.datawrangler.viewer.v0+json": {
       "columns": [
        {
         "name": "index",
         "rawType": "object",
         "type": "string"
        },
        {
         "name": "Date",
         "rawType": "object",
         "type": "unknown"
        },
        {
         "name": "Close",
         "rawType": "float64",
         "type": "float"
        },
        {
         "name": "High",
         "rawType": "float64",
         "type": "float"
        },
        {
         "name": "Low",
         "rawType": "float64",
         "type": "float"
        },
        {
         "name": "Open",
         "rawType": "float64",
         "type": "float"
        },
        {
         "name": "Volume",
         "rawType": "float64",
         "type": "float"
        }
       ],
       "conversionMethod": "pd.DataFrame",
       "ref": "5406d956-cc7f-49b7-b2aa-a973ff1695b2",
       "rows": [
        [
         "count",
         "1535",
         "1535.0",
         "1535.0",
         "1535.0",
         "1535.0",
         "1535.0"
        ],
        [
         "mean",
         "2022-01-18 01:26:18.371335168",
         "4066.80464495114",
         "4088.892397394137",
         "4041.5170553745934",
         "4065.902456026058",
         "4246305915.3094463"
        ],
        [
         "min",
         "2019-01-02 00:00:00",
         "2237.4",
         "2300.73",
         "2191.86",
         "2290.71",
         "1296530000.0"
        ],
        [
         "25%",
         "2020-07-11 12:00:00",
         "3288.71",
         "3305.885",
         "3269.92",
         "3286.915",
         "3635455000.0"
        ],
        [
         "50%",
         "2022-01-18 00:00:00",
         "4101.23",
         "4129.48",
         "4072.56",
         "4095.41",
         "4007510000.0"
        ],
        [
         "75%",
         "2023-07-29 12:00:00",
         "4536.645",
         "4558.389999999999",
         "4516.745",
         "4540.705",
         "4584180000.0"
        ],
        [
         "max",
         "2025-02-07 00:00:00",
         "6118.71",
         "6128.18",
         "6088.74",
         "6121.43",
         "9976520000.0"
        ],
        [
         "std",
         null,
         "892.1267010881985",
         "893.7432144181565",
         "890.6204267683186",
         "892.3221548996013",
         "1021285894.8069386"
        ]
       ],
       "shape": {
        "columns": 6,
        "rows": 8
       }
      },
      "text/html": [
       "<div>\n",
       "<style scoped>\n",
       "    .dataframe tbody tr th:only-of-type {\n",
       "        vertical-align: middle;\n",
       "    }\n",
       "\n",
       "    .dataframe tbody tr th {\n",
       "        vertical-align: top;\n",
       "    }\n",
       "\n",
       "    .dataframe thead th {\n",
       "        text-align: right;\n",
       "    }\n",
       "</style>\n",
       "<table border=\"1\" class=\"dataframe\">\n",
       "  <thead>\n",
       "    <tr style=\"text-align: right;\">\n",
       "      <th></th>\n",
       "      <th>Date</th>\n",
       "      <th>Close</th>\n",
       "      <th>High</th>\n",
       "      <th>Low</th>\n",
       "      <th>Open</th>\n",
       "      <th>Volume</th>\n",
       "    </tr>\n",
       "  </thead>\n",
       "  <tbody>\n",
       "    <tr>\n",
       "      <th>count</th>\n",
       "      <td>1535</td>\n",
       "      <td>1535.000000</td>\n",
       "      <td>1535.000000</td>\n",
       "      <td>1535.000000</td>\n",
       "      <td>1535.000000</td>\n",
       "      <td>1.535000e+03</td>\n",
       "    </tr>\n",
       "    <tr>\n",
       "      <th>mean</th>\n",
       "      <td>2022-01-18 01:26:18.371335168</td>\n",
       "      <td>4066.804645</td>\n",
       "      <td>4088.892397</td>\n",
       "      <td>4041.517055</td>\n",
       "      <td>4065.902456</td>\n",
       "      <td>4.246306e+09</td>\n",
       "    </tr>\n",
       "    <tr>\n",
       "      <th>min</th>\n",
       "      <td>2019-01-02 00:00:00</td>\n",
       "      <td>2237.400000</td>\n",
       "      <td>2300.730000</td>\n",
       "      <td>2191.860000</td>\n",
       "      <td>2290.710000</td>\n",
       "      <td>1.296530e+09</td>\n",
       "    </tr>\n",
       "    <tr>\n",
       "      <th>25%</th>\n",
       "      <td>2020-07-11 12:00:00</td>\n",
       "      <td>3288.710000</td>\n",
       "      <td>3305.885000</td>\n",
       "      <td>3269.920000</td>\n",
       "      <td>3286.915000</td>\n",
       "      <td>3.635455e+09</td>\n",
       "    </tr>\n",
       "    <tr>\n",
       "      <th>50%</th>\n",
       "      <td>2022-01-18 00:00:00</td>\n",
       "      <td>4101.230000</td>\n",
       "      <td>4129.480000</td>\n",
       "      <td>4072.560000</td>\n",
       "      <td>4095.410000</td>\n",
       "      <td>4.007510e+09</td>\n",
       "    </tr>\n",
       "    <tr>\n",
       "      <th>75%</th>\n",
       "      <td>2023-07-29 12:00:00</td>\n",
       "      <td>4536.645000</td>\n",
       "      <td>4558.390000</td>\n",
       "      <td>4516.745000</td>\n",
       "      <td>4540.705000</td>\n",
       "      <td>4.584180e+09</td>\n",
       "    </tr>\n",
       "    <tr>\n",
       "      <th>max</th>\n",
       "      <td>2025-02-07 00:00:00</td>\n",
       "      <td>6118.710000</td>\n",
       "      <td>6128.180000</td>\n",
       "      <td>6088.740000</td>\n",
       "      <td>6121.430000</td>\n",
       "      <td>9.976520e+09</td>\n",
       "    </tr>\n",
       "    <tr>\n",
       "      <th>std</th>\n",
       "      <td>NaN</td>\n",
       "      <td>892.126701</td>\n",
       "      <td>893.743214</td>\n",
       "      <td>890.620427</td>\n",
       "      <td>892.322155</td>\n",
       "      <td>1.021286e+09</td>\n",
       "    </tr>\n",
       "  </tbody>\n",
       "</table>\n",
       "</div>"
      ],
      "text/plain": [
       "                                Date        Close         High          Low  \\\n",
       "count                           1535  1535.000000  1535.000000  1535.000000   \n",
       "mean   2022-01-18 01:26:18.371335168  4066.804645  4088.892397  4041.517055   \n",
       "min              2019-01-02 00:00:00  2237.400000  2300.730000  2191.860000   \n",
       "25%              2020-07-11 12:00:00  3288.710000  3305.885000  3269.920000   \n",
       "50%              2022-01-18 00:00:00  4101.230000  4129.480000  4072.560000   \n",
       "75%              2023-07-29 12:00:00  4536.645000  4558.390000  4516.745000   \n",
       "max              2025-02-07 00:00:00  6118.710000  6128.180000  6088.740000   \n",
       "std                              NaN   892.126701   893.743214   890.620427   \n",
       "\n",
       "              Open        Volume  \n",
       "count  1535.000000  1.535000e+03  \n",
       "mean   4065.902456  4.246306e+09  \n",
       "min    2290.710000  1.296530e+09  \n",
       "25%    3286.915000  3.635455e+09  \n",
       "50%    4095.410000  4.007510e+09  \n",
       "75%    4540.705000  4.584180e+09  \n",
       "max    6121.430000  9.976520e+09  \n",
       "std     892.322155  1.021286e+09  "
      ]
     },
     "execution_count": 42,
     "metadata": {},
     "output_type": "execute_result"
    }
   ],
   "source": [
    "sp500_data.describe()"
   ]
  },
  {
   "cell_type": "code",
   "execution_count": 43,
   "metadata": {},
   "outputs": [
    {
     "data": {
      "application/vnd.microsoft.datawrangler.viewer.v0+json": {
       "columns": [
        {
         "name": "index",
         "rawType": "object",
         "type": "string"
        },
        {
         "name": "Date",
         "rawType": "object",
         "type": "unknown"
        },
        {
         "name": "Close",
         "rawType": "float64",
         "type": "float"
        },
        {
         "name": "High",
         "rawType": "float64",
         "type": "float"
        },
        {
         "name": "Low",
         "rawType": "float64",
         "type": "float"
        },
        {
         "name": "Open",
         "rawType": "float64",
         "type": "float"
        },
        {
         "name": "Volume",
         "rawType": "float64",
         "type": "float"
        }
       ],
       "conversionMethod": "pd.DataFrame",
       "ref": "1d72b9b2-3dd1-4905-8427-8174b52fd88d",
       "rows": [
        [
         "count",
         "1537",
         "1537.0",
         "1537.0",
         "1537.0",
         "1537.0",
         "1537.0"
        ],
        [
         "mean",
         "2022-01-19 11:33:17.918022144",
         "1865.0451528952503",
         "1873.867599219258",
         "1855.9070917371505",
         "1864.6929082628496",
         "4762.395575797007"
        ],
        [
         "min",
         "2019-01-02 00:00:00",
         "1269.3",
         "1269.8",
         "1266.0",
         "1266.4",
         "0.0"
        ],
        [
         "25%",
         "2020-07-13 00:00:00",
         "1709.9",
         "1717.4",
         "1699.0",
         "1707.4",
         "63.0"
        ],
        [
         "50%",
         "2022-01-19 00:00:00",
         "1831.9",
         "1841.2",
         "1822.0",
         "1830.1",
         "219.0"
        ],
        [
         "75%",
         "2023-08-01 00:00:00",
         "1968.4",
         "1977.7",
         "1960.3",
         "1968.1",
         "651.0"
        ],
        [
         "max",
         "2025-02-07 00:00:00",
         "2871.6",
         "2889.5",
         "2857.8",
         "2865.2",
         "346362.0"
        ],
        [
         "std",
         null,
         "338.5187989325291",
         "340.08633982099207",
         "336.42389670844943",
         "338.0514820074524",
         "26010.089350765873"
        ]
       ],
       "shape": {
        "columns": 6,
        "rows": 8
       }
      },
      "text/html": [
       "<div>\n",
       "<style scoped>\n",
       "    .dataframe tbody tr th:only-of-type {\n",
       "        vertical-align: middle;\n",
       "    }\n",
       "\n",
       "    .dataframe tbody tr th {\n",
       "        vertical-align: top;\n",
       "    }\n",
       "\n",
       "    .dataframe thead th {\n",
       "        text-align: right;\n",
       "    }\n",
       "</style>\n",
       "<table border=\"1\" class=\"dataframe\">\n",
       "  <thead>\n",
       "    <tr style=\"text-align: right;\">\n",
       "      <th></th>\n",
       "      <th>Date</th>\n",
       "      <th>Close</th>\n",
       "      <th>High</th>\n",
       "      <th>Low</th>\n",
       "      <th>Open</th>\n",
       "      <th>Volume</th>\n",
       "    </tr>\n",
       "  </thead>\n",
       "  <tbody>\n",
       "    <tr>\n",
       "      <th>count</th>\n",
       "      <td>1537</td>\n",
       "      <td>1537.000000</td>\n",
       "      <td>1537.000000</td>\n",
       "      <td>1537.000000</td>\n",
       "      <td>1537.000000</td>\n",
       "      <td>1537.000000</td>\n",
       "    </tr>\n",
       "    <tr>\n",
       "      <th>mean</th>\n",
       "      <td>2022-01-19 11:33:17.918022144</td>\n",
       "      <td>1865.045153</td>\n",
       "      <td>1873.867599</td>\n",
       "      <td>1855.907092</td>\n",
       "      <td>1864.692908</td>\n",
       "      <td>4762.395576</td>\n",
       "    </tr>\n",
       "    <tr>\n",
       "      <th>min</th>\n",
       "      <td>2019-01-02 00:00:00</td>\n",
       "      <td>1269.300000</td>\n",
       "      <td>1269.800000</td>\n",
       "      <td>1266.000000</td>\n",
       "      <td>1266.400000</td>\n",
       "      <td>0.000000</td>\n",
       "    </tr>\n",
       "    <tr>\n",
       "      <th>25%</th>\n",
       "      <td>2020-07-13 00:00:00</td>\n",
       "      <td>1709.900000</td>\n",
       "      <td>1717.400000</td>\n",
       "      <td>1699.000000</td>\n",
       "      <td>1707.400000</td>\n",
       "      <td>63.000000</td>\n",
       "    </tr>\n",
       "    <tr>\n",
       "      <th>50%</th>\n",
       "      <td>2022-01-19 00:00:00</td>\n",
       "      <td>1831.900000</td>\n",
       "      <td>1841.200000</td>\n",
       "      <td>1822.000000</td>\n",
       "      <td>1830.100000</td>\n",
       "      <td>219.000000</td>\n",
       "    </tr>\n",
       "    <tr>\n",
       "      <th>75%</th>\n",
       "      <td>2023-08-01 00:00:00</td>\n",
       "      <td>1968.400000</td>\n",
       "      <td>1977.700000</td>\n",
       "      <td>1960.300000</td>\n",
       "      <td>1968.100000</td>\n",
       "      <td>651.000000</td>\n",
       "    </tr>\n",
       "    <tr>\n",
       "      <th>max</th>\n",
       "      <td>2025-02-07 00:00:00</td>\n",
       "      <td>2871.600000</td>\n",
       "      <td>2889.500000</td>\n",
       "      <td>2857.800000</td>\n",
       "      <td>2865.200000</td>\n",
       "      <td>346362.000000</td>\n",
       "    </tr>\n",
       "    <tr>\n",
       "      <th>std</th>\n",
       "      <td>NaN</td>\n",
       "      <td>338.518799</td>\n",
       "      <td>340.086340</td>\n",
       "      <td>336.423897</td>\n",
       "      <td>338.051482</td>\n",
       "      <td>26010.089351</td>\n",
       "    </tr>\n",
       "  </tbody>\n",
       "</table>\n",
       "</div>"
      ],
      "text/plain": [
       "                                Date        Close         High          Low  \\\n",
       "count                           1537  1537.000000  1537.000000  1537.000000   \n",
       "mean   2022-01-19 11:33:17.918022144  1865.045153  1873.867599  1855.907092   \n",
       "min              2019-01-02 00:00:00  1269.300000  1269.800000  1266.000000   \n",
       "25%              2020-07-13 00:00:00  1709.900000  1717.400000  1699.000000   \n",
       "50%              2022-01-19 00:00:00  1831.900000  1841.200000  1822.000000   \n",
       "75%              2023-08-01 00:00:00  1968.400000  1977.700000  1960.300000   \n",
       "max              2025-02-07 00:00:00  2871.600000  2889.500000  2857.800000   \n",
       "std                              NaN   338.518799   340.086340   336.423897   \n",
       "\n",
       "              Open         Volume  \n",
       "count  1537.000000    1537.000000  \n",
       "mean   1864.692908    4762.395576  \n",
       "min    1266.400000       0.000000  \n",
       "25%    1707.400000      63.000000  \n",
       "50%    1830.100000     219.000000  \n",
       "75%    1968.100000     651.000000  \n",
       "max    2865.200000  346362.000000  \n",
       "std     338.051482   26010.089351  "
      ]
     },
     "execution_count": 43,
     "metadata": {},
     "output_type": "execute_result"
    }
   ],
   "source": [
    "gold_data.describe()"
   ]
  },
  {
   "cell_type": "code",
   "execution_count": 44,
   "metadata": {},
   "outputs": [
    {
     "data": {
      "text/plain": [
       "Date      0\n",
       "Close     0\n",
       "High      0\n",
       "Low       0\n",
       "Open      0\n",
       "Volume    0\n",
       "dtype: int64"
      ]
     },
     "execution_count": 44,
     "metadata": {},
     "output_type": "execute_result"
    }
   ],
   "source": [
    "#Verification valeurs manquantes \n",
    "btc_data.isnull().sum()\n"
   ]
  },
  {
   "cell_type": "code",
   "execution_count": 45,
   "metadata": {},
   "outputs": [
    {
     "data": {
      "text/plain": [
       "Date      0\n",
       "Close     0\n",
       "High      0\n",
       "Low       0\n",
       "Open      0\n",
       "Volume    0\n",
       "dtype: int64"
      ]
     },
     "execution_count": 45,
     "metadata": {},
     "output_type": "execute_result"
    }
   ],
   "source": [
    "sp500_data.isnull().sum()"
   ]
  },
  {
   "cell_type": "code",
   "execution_count": 46,
   "metadata": {},
   "outputs": [
    {
     "data": {
      "text/plain": [
       "Date      0\n",
       "Close     0\n",
       "High      0\n",
       "Low       0\n",
       "Open      0\n",
       "Volume    0\n",
       "dtype: int64"
      ]
     },
     "execution_count": 46,
     "metadata": {},
     "output_type": "execute_result"
    }
   ],
   "source": [
    "gold_data.isnull().sum()\n",
    "\n",
    "\n"
   ]
  },
  {
   "cell_type": "code",
   "execution_count": 47,
   "metadata": {},
   "outputs": [
    {
     "data": {
      "text/plain": [
       "Date      datetime64[ns]\n",
       "Close            float64\n",
       "High             float64\n",
       "Low              float64\n",
       "Open             float64\n",
       "Volume             int64\n",
       "dtype: object"
      ]
     },
     "execution_count": 47,
     "metadata": {},
     "output_type": "execute_result"
    }
   ],
   "source": [
    "btc_data.dtypes        "
   ]
  },
  {
   "cell_type": "code",
   "execution_count": 48,
   "metadata": {},
   "outputs": [
    {
     "data": {
      "text/plain": [
       "Date      datetime64[ns]\n",
       "Close            float64\n",
       "High             float64\n",
       "Low              float64\n",
       "Open             float64\n",
       "Volume             int64\n",
       "dtype: object"
      ]
     },
     "execution_count": 48,
     "metadata": {},
     "output_type": "execute_result"
    }
   ],
   "source": [
    "sp500_data.dtypes  "
   ]
  },
  {
   "cell_type": "code",
   "execution_count": 49,
   "metadata": {},
   "outputs": [
    {
     "data": {
      "text/plain": [
       "Date      datetime64[ns]\n",
       "Close            float64\n",
       "High             float64\n",
       "Low              float64\n",
       "Open             float64\n",
       "Volume             int64\n",
       "dtype: object"
      ]
     },
     "execution_count": 49,
     "metadata": {},
     "output_type": "execute_result"
    }
   ],
   "source": [
    "gold_data.dtypes  "
   ]
  },
  {
   "cell_type": "code",
   "execution_count": 53,
   "metadata": {},
   "outputs": [
    {
     "data": {
      "image/png": "[encoded data removed]",
      "text/plain": [
       "<Figure size 1500x500 with 3 Axes>"
      ]
     },
     "metadata": {},
     "output_type": "display_data"
    }
   ],
   "source": [
    "#Visualisation des distribution des prix de cloture \n",
    "plt.figure(figsize=(15,5))\n",
    "plt.subplot(1,3,1)\n",
    "btc_data['Close'].plot(kind='hist' , bins=50 , color='orange',title='Distribution de prix  cloture Bitcoin ')\n",
    "plt.subplot(1,3,2)\n",
    "gold_data['Close'].plot(kind='hist' , bins=50 , color='blue',title='Distribution de prix cloture Or ')\n",
    "plt.subplot(1,3,3)\n",
    "sp500_data['Close'].plot(kind='hist' , bins=50 , color='red',title='Distribution de prix de cloture S&P500 ')\n",
    "plt.tight_layout()\n",
    "plt.show()"
   ]
  },
  {
   "cell_type": "code",
   "execution_count": 51,
   "metadata": {},
   "outputs": [
    {
     "data": {
      "image/png": "[encoded data removed]",
      "text/plain": [
       "<Figure size 1500x500 with 3 Axes>"
      ]
     },
     "metadata": {},
     "output_type": "display_data"
    }
   ],
   "source": [
    "#Verification de l'evolution des prix de cloture au fil du temps\n",
    "plt.figure(figsize=(15,5))\n",
    "plt.subplot(1,3,1)\n",
    "plt.plot(btc_data['Date'], btc_data['Close'], color='orange')\n",
    "plt.title('Prix de cloture Bitcoin au fil du temps')\n",
    "plt.xticks(rotation=45)\n",
    "\n",
    "plt.subplot(1,3,2)\n",
    "plt.plot(gold_data['Date'], gold_data['Close'], color='blue')\n",
    "plt.title(\"Prix de cloture de l'Or au fil du temps\")\n",
    "plt.xticks(rotation=45)\n",
    "\n",
    "plt.subplot(1,3,3)\n",
    "plt.plot(sp500_data['Date'], sp500_data['Close'], color='red')\n",
    "plt.title('Prix de cloture Bitcoin au fil du temps')\n",
    "plt.xticks(rotation=45)\n",
    "\n",
    "plt.tight_layout()\n",
    "plt.show()\n"
   ]
  },
  {
   "cell_type": "code",
   "execution_count": 1,
   "metadata": {},
   "outputs": [
    {
     "ename": "NameError",
     "evalue": "name 'btc_data' is not defined",
     "output_type": "error",
     "traceback": [
      "\u001b[1;31m---------------------------------------------------------------------------\u001b[0m",
      "\u001b[1;31mNameError\u001b[0m                                 Traceback (most recent call last)",
      "Cell \u001b[1;32mIn[1], line 1\u001b[0m\n\u001b[1;32m----> 1\u001b[0m \u001b[43mbtc_data\u001b[49m\u001b[38;5;241m.\u001b[39mcorr()\n\u001b[0;32m      2\u001b[0m gold_data\u001b[38;5;241m.\u001b[39mcorr()\n\u001b[0;32m      3\u001b[0m sp500_data\u001b[38;5;241m.\u001b[39mcorr()\n",
      "\u001b[1;31mNameError\u001b[0m: name 'btc_data' is not defined"
     ]
    }
   ],
   "source": [
    "btc_data.corr()\n",
    "gold_data.corr()\n",
    "sp500_data.corr()"
   ]
  },
  {
   "cell_type": "code",
   "execution_count": null,
   "metadata": {},
   "outputs": [],
   "source": []
  }
 ],
 "metadata": {
  "kernelspec": {
   "display_name": "Python 3",
   "language": "python",
   "name": "python3"
  },
  "language_info": {
   "codemirror_mode": {
    "name": "ipython",
    "version": 3
   },
   "file_extension": ".py",
   "mimetype": "text/x-python",
   "name": "python",
   "nbconvert_exporter": "python",
   "pygments_lexer": "ipython3",
   "version": "3.12.9"
  }
 },
 "nbformat": 4,
 "nbformat_minor": 2
}
