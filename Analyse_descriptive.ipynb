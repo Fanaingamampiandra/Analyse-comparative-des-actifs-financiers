{
 "cells": [
  {
   "cell_type": "code",
   "execution_count": 2,
   "metadata": {},
   "outputs": [],
   "source": [
    "import pandas as pd\n",
    "import numpy as np\n",
    "import matplotlib.pyplot as plt \n",
    "import seaborn as sns\n",
    "import datetime"
   ]
  },
  {
   "cell_type": "code",
   "execution_count": null,
   "metadata": {},
   "outputs": [],
   "source": [
    "btc_data=pd.read_csv(\"D:/Analyse-comparative-des-actifs-financiers/bitcoin_historical_data_cleaned.csv\")\n",
    "sp500_data=pd.read_csv(\"D:/Analyse-comparative-des-actifs-financiers/sp500_historical_data_cleaned.csv\")\n",
    "gold_data=pd.read_csv(\"D:/Analyse-comparative-des-actifs-financiers/gold_historical_data_cleaned.csv\")"
   ]
  },
  {
   "cell_type": "code",
   "execution_count": 5,
   "metadata": {},
   "outputs": [
    {
     "data": {
      "text/html": [
       "<div>\n",
       "<style scoped>\n",
       "    .dataframe tbody tr th:only-of-type {\n",
       "        vertical-align: middle;\n",
       "    }\n",
       "\n",
       "    .dataframe tbody tr th {\n",
       "        vertical-align: top;\n",
       "    }\n",
       "\n",
       "    .dataframe thead th {\n",
       "        text-align: right;\n",
       "    }\n",
       "</style>\n",
       "<table border=\"1\" class=\"dataframe\">\n",
       "  <thead>\n",
       "    <tr style=\"text-align: right;\">\n",
       "      <th></th>\n",
       "      <th>Close</th>\n",
       "      <th>High</th>\n",
       "      <th>Low</th>\n",
       "      <th>Open</th>\n",
       "      <th>Volume</th>\n",
       "    </tr>\n",
       "  </thead>\n",
       "  <tbody>\n",
       "    <tr>\n",
       "      <th>count</th>\n",
       "      <td>2232.000000</td>\n",
       "      <td>2232.000000</td>\n",
       "      <td>2232.000000</td>\n",
       "      <td>2232.000000</td>\n",
       "      <td>2.232000e+03</td>\n",
       "    </tr>\n",
       "    <tr>\n",
       "      <th>mean</th>\n",
       "      <td>32720.074108</td>\n",
       "      <td>33397.097056</td>\n",
       "      <td>31939.574220</td>\n",
       "      <td>32680.525314</td>\n",
       "      <td>3.085689e+10</td>\n",
       "    </tr>\n",
       "    <tr>\n",
       "      <th>std</th>\n",
       "      <td>23705.349337</td>\n",
       "      <td>24194.384984</td>\n",
       "      <td>23145.630811</td>\n",
       "      <td>23677.004904</td>\n",
       "      <td>1.946871e+10</td>\n",
       "    </tr>\n",
       "    <tr>\n",
       "      <th>min</th>\n",
       "      <td>3399.470000</td>\n",
       "      <td>3427.950000</td>\n",
       "      <td>3391.020000</td>\n",
       "      <td>3401.380000</td>\n",
       "      <td>4.324201e+09</td>\n",
       "    </tr>\n",
       "    <tr>\n",
       "      <th>25%</th>\n",
       "      <td>10689.750000</td>\n",
       "      <td>10896.460000</td>\n",
       "      <td>10447.137500</td>\n",
       "      <td>10677.445000</td>\n",
       "      <td>1.803917e+10</td>\n",
       "    </tr>\n",
       "    <tr>\n",
       "      <th>50%</th>\n",
       "      <td>27794.805000</td>\n",
       "      <td>28305.765000</td>\n",
       "      <td>27245.495000</td>\n",
       "      <td>27781.830000</td>\n",
       "      <td>2.703812e+10</td>\n",
       "    </tr>\n",
       "    <tr>\n",
       "      <th>75%</th>\n",
       "      <td>47286.945000</td>\n",
       "      <td>48476.105000</td>\n",
       "      <td>46444.472500</td>\n",
       "      <td>47291.032500</td>\n",
       "      <td>3.818185e+10</td>\n",
       "    </tr>\n",
       "    <tr>\n",
       "      <th>max</th>\n",
       "      <td>106146.270000</td>\n",
       "      <td>109114.880000</td>\n",
       "      <td>105291.730000</td>\n",
       "      <td>106147.300000</td>\n",
       "      <td>3.509679e+11</td>\n",
       "    </tr>\n",
       "  </tbody>\n",
       "</table>\n",
       "</div>"
      ],
      "text/plain": [
       "               Close           High            Low           Open  \\\n",
       "count    2232.000000    2232.000000    2232.000000    2232.000000   \n",
       "mean    32720.074108   33397.097056   31939.574220   32680.525314   \n",
       "std     23705.349337   24194.384984   23145.630811   23677.004904   \n",
       "min      3399.470000    3427.950000    3391.020000    3401.380000   \n",
       "25%     10689.750000   10896.460000   10447.137500   10677.445000   \n",
       "50%     27794.805000   28305.765000   27245.495000   27781.830000   \n",
       "75%     47286.945000   48476.105000   46444.472500   47291.032500   \n",
       "max    106146.270000  109114.880000  105291.730000  106147.300000   \n",
       "\n",
       "             Volume  \n",
       "count  2.232000e+03  \n",
       "mean   3.085689e+10  \n",
       "std    1.946871e+10  \n",
       "min    4.324201e+09  \n",
       "25%    1.803917e+10  \n",
       "50%    2.703812e+10  \n",
       "75%    3.818185e+10  \n",
       "max    3.509679e+11  "
      ]
     },
     "execution_count": 5,
     "metadata": {},
     "output_type": "execute_result"
    }
   ],
   "source": [
    "#Statistique descriptive \n",
    "btc_data.describe()\n"
   ]
  },
  {
   "cell_type": "code",
   "execution_count": 33,
   "metadata": {},
   "outputs": [
    {
     "data": {
      "text/html": [
       "<div>\n",
       "<style scoped>\n",
       "    .dataframe tbody tr th:only-of-type {\n",
       "        vertical-align: middle;\n",
       "    }\n",
       "\n",
       "    .dataframe tbody tr th {\n",
       "        vertical-align: top;\n",
       "    }\n",
       "\n",
       "    .dataframe thead th {\n",
       "        text-align: right;\n",
       "    }\n",
       "</style>\n",
       "<table border=\"1\" class=\"dataframe\">\n",
       "  <thead>\n",
       "    <tr style=\"text-align: right;\">\n",
       "      <th></th>\n",
       "      <th>Close</th>\n",
       "      <th>High</th>\n",
       "      <th>Low</th>\n",
       "      <th>Open</th>\n",
       "      <th>Volume</th>\n",
       "    </tr>\n",
       "  </thead>\n",
       "  <tbody>\n",
       "    <tr>\n",
       "      <th>count</th>\n",
       "      <td>1535.000000</td>\n",
       "      <td>1535.000000</td>\n",
       "      <td>1535.000000</td>\n",
       "      <td>1535.000000</td>\n",
       "      <td>1.535000e+03</td>\n",
       "    </tr>\n",
       "    <tr>\n",
       "      <th>mean</th>\n",
       "      <td>4066.804645</td>\n",
       "      <td>4088.892397</td>\n",
       "      <td>4041.517055</td>\n",
       "      <td>4065.902456</td>\n",
       "      <td>4.246306e+09</td>\n",
       "    </tr>\n",
       "    <tr>\n",
       "      <th>std</th>\n",
       "      <td>892.126701</td>\n",
       "      <td>893.743214</td>\n",
       "      <td>890.620427</td>\n",
       "      <td>892.322155</td>\n",
       "      <td>1.021286e+09</td>\n",
       "    </tr>\n",
       "    <tr>\n",
       "      <th>min</th>\n",
       "      <td>2237.400000</td>\n",
       "      <td>2300.730000</td>\n",
       "      <td>2191.860000</td>\n",
       "      <td>2290.710000</td>\n",
       "      <td>1.296530e+09</td>\n",
       "    </tr>\n",
       "    <tr>\n",
       "      <th>25%</th>\n",
       "      <td>3288.710000</td>\n",
       "      <td>3305.885000</td>\n",
       "      <td>3269.920000</td>\n",
       "      <td>3286.915000</td>\n",
       "      <td>3.635455e+09</td>\n",
       "    </tr>\n",
       "    <tr>\n",
       "      <th>50%</th>\n",
       "      <td>4101.230000</td>\n",
       "      <td>4129.480000</td>\n",
       "      <td>4072.560000</td>\n",
       "      <td>4095.410000</td>\n",
       "      <td>4.007510e+09</td>\n",
       "    </tr>\n",
       "    <tr>\n",
       "      <th>75%</th>\n",
       "      <td>4536.645000</td>\n",
       "      <td>4558.390000</td>\n",
       "      <td>4516.745000</td>\n",
       "      <td>4540.705000</td>\n",
       "      <td>4.584180e+09</td>\n",
       "    </tr>\n",
       "    <tr>\n",
       "      <th>max</th>\n",
       "      <td>6118.710000</td>\n",
       "      <td>6128.180000</td>\n",
       "      <td>6088.740000</td>\n",
       "      <td>6121.430000</td>\n",
       "      <td>9.976520e+09</td>\n",
       "    </tr>\n",
       "  </tbody>\n",
       "</table>\n",
       "</div>"
      ],
      "text/plain": [
       "             Close         High          Low         Open        Volume\n",
       "count  1535.000000  1535.000000  1535.000000  1535.000000  1.535000e+03\n",
       "mean   4066.804645  4088.892397  4041.517055  4065.902456  4.246306e+09\n",
       "std     892.126701   893.743214   890.620427   892.322155  1.021286e+09\n",
       "min    2237.400000  2300.730000  2191.860000  2290.710000  1.296530e+09\n",
       "25%    3288.710000  3305.885000  3269.920000  3286.915000  3.635455e+09\n",
       "50%    4101.230000  4129.480000  4072.560000  4095.410000  4.007510e+09\n",
       "75%    4536.645000  4558.390000  4516.745000  4540.705000  4.584180e+09\n",
       "max    6118.710000  6128.180000  6088.740000  6121.430000  9.976520e+09"
      ]
     },
     "execution_count": 33,
     "metadata": {},
     "output_type": "execute_result"
    }
   ],
   "source": [
    "sp500_data.describe()"
   ]
  },
  {
   "cell_type": "code",
   "execution_count": 34,
   "metadata": {},
   "outputs": [
    {
     "data": {
      "text/html": [
       "<div>\n",
       "<style scoped>\n",
       "    .dataframe tbody tr th:only-of-type {\n",
       "        vertical-align: middle;\n",
       "    }\n",
       "\n",
       "    .dataframe tbody tr th {\n",
       "        vertical-align: top;\n",
       "    }\n",
       "\n",
       "    .dataframe thead th {\n",
       "        text-align: right;\n",
       "    }\n",
       "</style>\n",
       "<table border=\"1\" class=\"dataframe\">\n",
       "  <thead>\n",
       "    <tr style=\"text-align: right;\">\n",
       "      <th></th>\n",
       "      <th>Close</th>\n",
       "      <th>High</th>\n",
       "      <th>Low</th>\n",
       "      <th>Open</th>\n",
       "      <th>Volume</th>\n",
       "    </tr>\n",
       "  </thead>\n",
       "  <tbody>\n",
       "    <tr>\n",
       "      <th>count</th>\n",
       "      <td>2232.000000</td>\n",
       "      <td>2232.000000</td>\n",
       "      <td>2232.000000</td>\n",
       "      <td>2232.000000</td>\n",
       "      <td>2.232000e+03</td>\n",
       "    </tr>\n",
       "    <tr>\n",
       "      <th>mean</th>\n",
       "      <td>32720.074108</td>\n",
       "      <td>33397.097056</td>\n",
       "      <td>31939.574220</td>\n",
       "      <td>32680.525314</td>\n",
       "      <td>3.085689e+10</td>\n",
       "    </tr>\n",
       "    <tr>\n",
       "      <th>std</th>\n",
       "      <td>23705.349337</td>\n",
       "      <td>24194.384984</td>\n",
       "      <td>23145.630811</td>\n",
       "      <td>23677.004904</td>\n",
       "      <td>1.946871e+10</td>\n",
       "    </tr>\n",
       "    <tr>\n",
       "      <th>min</th>\n",
       "      <td>3399.470000</td>\n",
       "      <td>3427.950000</td>\n",
       "      <td>3391.020000</td>\n",
       "      <td>3401.380000</td>\n",
       "      <td>4.324201e+09</td>\n",
       "    </tr>\n",
       "    <tr>\n",
       "      <th>25%</th>\n",
       "      <td>10689.750000</td>\n",
       "      <td>10896.460000</td>\n",
       "      <td>10447.137500</td>\n",
       "      <td>10677.445000</td>\n",
       "      <td>1.803917e+10</td>\n",
       "    </tr>\n",
       "    <tr>\n",
       "      <th>50%</th>\n",
       "      <td>27794.805000</td>\n",
       "      <td>28305.765000</td>\n",
       "      <td>27245.495000</td>\n",
       "      <td>27781.830000</td>\n",
       "      <td>2.703812e+10</td>\n",
       "    </tr>\n",
       "    <tr>\n",
       "      <th>75%</th>\n",
       "      <td>47286.945000</td>\n",
       "      <td>48476.105000</td>\n",
       "      <td>46444.472500</td>\n",
       "      <td>47291.032500</td>\n",
       "      <td>3.818185e+10</td>\n",
       "    </tr>\n",
       "    <tr>\n",
       "      <th>max</th>\n",
       "      <td>106146.270000</td>\n",
       "      <td>109114.880000</td>\n",
       "      <td>105291.730000</td>\n",
       "      <td>106147.300000</td>\n",
       "      <td>3.509679e+11</td>\n",
       "    </tr>\n",
       "  </tbody>\n",
       "</table>\n",
       "</div>"
      ],
      "text/plain": [
       "               Close           High            Low           Open  \\\n",
       "count    2232.000000    2232.000000    2232.000000    2232.000000   \n",
       "mean    32720.074108   33397.097056   31939.574220   32680.525314   \n",
       "std     23705.349337   24194.384984   23145.630811   23677.004904   \n",
       "min      3399.470000    3427.950000    3391.020000    3401.380000   \n",
       "25%     10689.750000   10896.460000   10447.137500   10677.445000   \n",
       "50%     27794.805000   28305.765000   27245.495000   27781.830000   \n",
       "75%     47286.945000   48476.105000   46444.472500   47291.032500   \n",
       "max    106146.270000  109114.880000  105291.730000  106147.300000   \n",
       "\n",
       "             Volume  \n",
       "count  2.232000e+03  \n",
       "mean   3.085689e+10  \n",
       "std    1.946871e+10  \n",
       "min    4.324201e+09  \n",
       "25%    1.803917e+10  \n",
       "50%    2.703812e+10  \n",
       "75%    3.818185e+10  \n",
       "max    3.509679e+11  "
      ]
     },
     "execution_count": 34,
     "metadata": {},
     "output_type": "execute_result"
    }
   ],
   "source": [
    "gold_data.describe()"
   ]
  },
  {
   "cell_type": "code",
   "execution_count": 35,
   "metadata": {},
   "outputs": [
    {
     "data": {
      "text/plain": [
       "Date      0\n",
       "Close     0\n",
       "High      0\n",
       "Low       0\n",
       "Open      0\n",
       "Volume    0\n",
       "dtype: int64"
      ]
     },
     "execution_count": 35,
     "metadata": {},
     "output_type": "execute_result"
    }
   ],
   "source": [
    "#Verification valeurs manquantes \n",
    "btc_data.isnull().sum()\n"
   ]
  },
  {
   "cell_type": "code",
   "execution_count": 36,
   "metadata": {},
   "outputs": [
    {
     "data": {
      "text/plain": [
       "Date      0\n",
       "Close     0\n",
       "High      0\n",
       "Low       0\n",
       "Open      0\n",
       "Volume    0\n",
       "dtype: int64"
      ]
     },
     "execution_count": 36,
     "metadata": {},
     "output_type": "execute_result"
    }
   ],
   "source": [
    "sp500_data.isnull().sum()"
   ]
  },
  {
   "cell_type": "code",
   "execution_count": 37,
   "metadata": {},
   "outputs": [
    {
     "data": {
      "text/plain": [
       "Date      0\n",
       "Close     0\n",
       "High      0\n",
       "Low       0\n",
       "Open      0\n",
       "Volume    0\n",
       "dtype: int64"
      ]
     },
     "execution_count": 37,
     "metadata": {},
     "output_type": "execute_result"
    }
   ],
   "source": [
    "gold_data.isnull().sum()\n",
    "\n",
    "\n"
   ]
  },
  {
   "cell_type": "code",
   "execution_count": 38,
   "metadata": {},
   "outputs": [
    {
     "data": {
      "text/plain": [
       "Date       object\n",
       "Close     float64\n",
       "High      float64\n",
       "Low       float64\n",
       "Open      float64\n",
       "Volume      int64\n",
       "dtype: object"
      ]
     },
     "execution_count": 38,
     "metadata": {},
     "output_type": "execute_result"
    }
   ],
   "source": [
    "for col in btc_data.columns:\n",
    "    if col !=\"Date\":\n",
    "        btc_data[col]=pd.to_numeric(btc_data[col],errors=\"coerce\")\n",
    "        \n",
    "btc_data.dtypes        "
   ]
  },
  {
   "cell_type": "code",
   "execution_count": 39,
   "metadata": {},
   "outputs": [
    {
     "data": {
      "text/plain": [
       "Date       object\n",
       "Close     float64\n",
       "High      float64\n",
       "Low       float64\n",
       "Open      float64\n",
       "Volume      int64\n",
       "dtype: object"
      ]
     },
     "execution_count": 39,
     "metadata": {},
     "output_type": "execute_result"
    }
   ],
   "source": [
    "for col in btc_data.columns:\n",
    "    if col !=\"Date\":\n",
    "        sp500_data[col]=pd.to_numeric(sp500_data[col],errors=\"coerce\")\n",
    "        \n",
    "sp500_data.dtypes  "
   ]
  },
  {
   "cell_type": "code",
   "execution_count": 40,
   "metadata": {},
   "outputs": [
    {
     "data": {
      "text/plain": [
       "Date       object\n",
       "Close     float64\n",
       "High      float64\n",
       "Low       float64\n",
       "Open      float64\n",
       "Volume      int64\n",
       "dtype: object"
      ]
     },
     "execution_count": 40,
     "metadata": {},
     "output_type": "execute_result"
    }
   ],
   "source": [
    "for col in btc_data.columns:\n",
    "    if col !=\"Date\":\n",
    "        gold_data[col]=pd.to_numeric(gold_data[col],errors=\"coerce\")\n",
    "        \n",
    "gold_data.dtypes  "
   ]
  },
  {
   "cell_type": "code",
   "execution_count": 41,
   "metadata": {},
   "outputs": [
    {
     "data": {
      "image/png": "[encoded data removed]",
      "text/plain": [
       "<Figure size 1500x500 with 3 Axes>"
      ]
     },
     "metadata": {},
     "output_type": "display_data"
    }
   ],
   "source": [
    "#Visualisation des distribution des prix de cloture \n",
    "plt.figure(figsize=(15,5))\n",
    "plt.subplot(1,3,1)\n",
    "btc_data['Close'].plot(kind='hist' , bins=50 , color='orange',title='Prix cloture Bitcoin ')\n",
    "plt.subplot(1,3,2)\n",
    "gold_data['Close'].plot(kind='hist' , bins=50 , color='blue',title='Prix cloture Or ')\n",
    "plt.subplot(1,3,3)\n",
    "sp500_data['Close'].plot(kind='hist' , bins=50 , color='red',title='Prix de cloture S&P500 ')\n",
    "plt.tight_layout()\n",
    "plt.show()"
   ]
  },
  {
   "cell_type": "code",
   "execution_count": 45,
   "metadata": {},
   "outputs": [
    {
     "data": {
      "image/png": "[encoded data removed]",
      "text/plain": [
       "<Figure size 1500x500 with 3 Axes>"
      ]
     },
     "metadata": {},
     "output_type": "display_data"
    }
   ],
   "source": [
    "#Verification de l'evolution des prix de cloture au fil du temps\n",
    "\n",
    "\n",
    "# Vérifier et convertir la colonne 'Date' en datetime\n",
    "btc_data['Date'] = pd.to_datetime(btc_data['Date'])\n",
    "gold_data['Date'] = pd.to_datetime(gold_data['Date'])\n",
    "sp500_data['Date'] = pd.to_datetime(sp500_data['Date'])\n",
    "\n",
    "# Trier les données par date\n",
    "btc_data = btc_data.sort_values('Date')\n",
    "gold_data = gold_data.sort_values('Date')\n",
    "sp500_data = sp500_data.sort_values('Date')\n",
    "\n",
    "\n",
    "plt.figure(figsize=(15,5))\n",
    "plt.subplot(1,3,1)\n",
    "plt.plot(btc_data['Date'], btc_data['Close'], color='orange')\n",
    "plt.title('Prix de cloture Bitcoin au fil du temps')\n",
    "plt.xticks(rotation=45)\n",
    "\n",
    "plt.subplot(1,3,2)\n",
    "plt.plot(gold_data['Date'], gold_data['Close'], color='blue')\n",
    "plt.title(\"Prix de cloture de l'Or au fil du temps\")\n",
    "plt.xticks(rotation=45)\n",
    "\n",
    "plt.subplot(1,3,3)\n",
    "plt.plot(sp500_data['Date'], sp500_data['Close'], color='red')\n",
    "plt.title('Prix de cloture Bitcoin au fil du temps')\n",
    "plt.xticks(rotation=45)\n",
    "\n",
    "plt.tight_layout()\n",
    "plt.show()\n"
   ]
  },
  {
   "cell_type": "code",
   "execution_count": 47,
   "metadata": {},
   "outputs": [
    {
     "data": {
      "text/html": [
       "<div>\n",
       "<style scoped>\n",
       "    .dataframe tbody tr th:only-of-type {\n",
       "        vertical-align: middle;\n",
       "    }\n",
       "\n",
       "    .dataframe tbody tr th {\n",
       "        vertical-align: top;\n",
       "    }\n",
       "\n",
       "    .dataframe thead th {\n",
       "        text-align: right;\n",
       "    }\n",
       "</style>\n",
       "<table border=\"1\" class=\"dataframe\">\n",
       "  <thead>\n",
       "    <tr style=\"text-align: right;\">\n",
       "      <th></th>\n",
       "      <th>Date</th>\n",
       "      <th>Close</th>\n",
       "      <th>High</th>\n",
       "      <th>Low</th>\n",
       "      <th>Open</th>\n",
       "      <th>Volume</th>\n",
       "    </tr>\n",
       "  </thead>\n",
       "  <tbody>\n",
       "    <tr>\n",
       "      <th>Date</th>\n",
       "      <td>1.000000</td>\n",
       "      <td>0.904753</td>\n",
       "      <td>0.906627</td>\n",
       "      <td>0.902973</td>\n",
       "      <td>0.904684</td>\n",
       "      <td>-0.059337</td>\n",
       "    </tr>\n",
       "    <tr>\n",
       "      <th>Close</th>\n",
       "      <td>0.904753</td>\n",
       "      <td>1.000000</td>\n",
       "      <td>0.999570</td>\n",
       "      <td>0.999645</td>\n",
       "      <td>0.999212</td>\n",
       "      <td>-0.119162</td>\n",
       "    </tr>\n",
       "    <tr>\n",
       "      <th>High</th>\n",
       "      <td>0.906627</td>\n",
       "      <td>0.999570</td>\n",
       "      <td>1.000000</td>\n",
       "      <td>0.999442</td>\n",
       "      <td>0.999709</td>\n",
       "      <td>-0.109107</td>\n",
       "    </tr>\n",
       "    <tr>\n",
       "      <th>Low</th>\n",
       "      <td>0.902973</td>\n",
       "      <td>0.999645</td>\n",
       "      <td>0.999442</td>\n",
       "      <td>1.000000</td>\n",
       "      <td>0.999564</td>\n",
       "      <td>-0.127304</td>\n",
       "    </tr>\n",
       "    <tr>\n",
       "      <th>Open</th>\n",
       "      <td>0.904684</td>\n",
       "      <td>0.999212</td>\n",
       "      <td>0.999709</td>\n",
       "      <td>0.999564</td>\n",
       "      <td>1.000000</td>\n",
       "      <td>-0.115896</td>\n",
       "    </tr>\n",
       "    <tr>\n",
       "      <th>Volume</th>\n",
       "      <td>-0.059337</td>\n",
       "      <td>-0.119162</td>\n",
       "      <td>-0.109107</td>\n",
       "      <td>-0.127304</td>\n",
       "      <td>-0.115896</td>\n",
       "      <td>1.000000</td>\n",
       "    </tr>\n",
       "  </tbody>\n",
       "</table>\n",
       "</div>"
      ],
      "text/plain": [
       "            Date     Close      High       Low      Open    Volume\n",
       "Date    1.000000  0.904753  0.906627  0.902973  0.904684 -0.059337\n",
       "Close   0.904753  1.000000  0.999570  0.999645  0.999212 -0.119162\n",
       "High    0.906627  0.999570  1.000000  0.999442  0.999709 -0.109107\n",
       "Low     0.902973  0.999645  0.999442  1.000000  0.999564 -0.127304\n",
       "Open    0.904684  0.999212  0.999709  0.999564  1.000000 -0.115896\n",
       "Volume -0.059337 -0.119162 -0.109107 -0.127304 -0.115896  1.000000"
      ]
     },
     "execution_count": 47,
     "metadata": {},
     "output_type": "execute_result"
    }
   ],
   "source": [
    "btc_data.corr()\n",
    "gold_data.corr()\n",
    "sp500_data.corr()"
   ]
  }
 ],
 "metadata": {
  "kernelspec": {
   "display_name": "Python 3",
   "language": "python",
   "name": "python3"
  },
  "language_info": {
   "codemirror_mode": {
    "name": "ipython",
    "version": 3
   },
   "file_extension": ".py",
   "mimetype": "text/x-python",
   "name": "python",
   "nbconvert_exporter": "python",
   "pygments_lexer": "ipython3",
   "version": "3.12.9"
  }
 },
 "nbformat": 4,
 "nbformat_minor": 2
}
