{
 "cells": [
  {
   "cell_type": "code",
   "execution_count": null,
   "metadata": {},
   "outputs": [],
   "source": [
    "import pandas as pd\n",
    "\n",
    "btc_file_path = \"bitcoin_historical_data_cleaned.csv\"\n",
    "btc_data = pd.read_csv(btc_file_path)\n",
    "btc_data.describe()\n"
   ]
  },
  {
   "cell_type": "code",
   "execution_count": null,
   "metadata": {},
   "outputs": [],
   "source": [
    "import pandas as pd\n",
    "\n",
    "btc_file_path = \"bitcoin_historical_data_cleaned.csv\"\n",
    "btc_data = pd.read_csv(btc_file_path)\n",
    "btc_data.iloc[:, 1:] = btc_data.iloc[:, 1:].round(3)\n",
    "btc_data.to_csv(btc_file_path, index=False)\n"
   ]
  },
  {
   "cell_type": "code",
   "execution_count": null,
   "metadata": {},
   "outputs": [],
   "source": [
    "for col in btc_data.columns:\n",
    "    if col != \"Date\":\n",
    "        btc_data[col] = pd.to_numeric(btc_data[col], errors='coerce')\n",
    "        \n",
    "btc_data.dtypes"
   ]
  },
  {
   "cell_type": "code",
   "execution_count": null,
   "metadata": {},
   "outputs": [],
   "source": [
    "import matplotlib.pyplot as plt\n",
    "import seaborn as sns\n",
    "\n",
    "plt.figure(figsize=(12, 6))\n",
    "sns.boxplot(data=btc_data[['Open', 'High', 'Low', 'Close']], palette=\"Set2\")\n",
    "plt.title(\"Boxplot des prix du Bitcoin pour détecter les valeurs aberrantes\")\n",
    "plt.show()\n"
   ]
  },
  {
   "cell_type": "code",
   "execution_count": null,
   "metadata": {},
   "outputs": [],
   "source": [
    "btc_data[\"Date\"] = pd.to_datetime(btc_data[\"Date\"])\n",
    "btc_data[\"Month\"] = btc_data[\"Date\"].dt.to_period(\"M\")\n",
    "plt.figure(figsize=(15, 6))\n",
    "sns.boxplot(x=btc_data[\"Month\"].astype(str), y=btc_data[\"Close\"], palette=\"Set2\")\n",
    "plt.xticks(rotation=90)\n",
    "plt.title(\"Boxplot des prix de clôture du Bitcoin par mois\")\n",
    "plt.xlabel(\"Mois\")\n",
    "plt.ylabel(\"Prix de Clôture (Close)\")\n",
    "plt.show()"
   ]
  },
  {
   "cell_type": "code",
   "execution_count": null,
   "metadata": {},
   "outputs": [],
   "source": [
    "import matplotlib.pyplot as plt\n",
    "plt.figure(figsize=(15, 6))\n",
    "plt.plot(btc_data[\"Date\"], btc_data[\"Close\"], label=\"Prix de clôture\", color=\"blue\")\n",
    "plt.xlabel(\"Date\")\n",
    "plt.ylabel(\"Prix (USD)\")\n",
    "plt.title(\"Évolution du prix de clôture du Bitcoin\")\n",
    "plt.legend()\n",
    "plt.show()\n"
   ]
  },
  {
   "cell_type": "code",
   "execution_count": null,
   "metadata": {},
   "outputs": [],
   "source": [
    "btc_data[\"Daily Return\"] = btc_data[\"Close\"].pct_change()\n",
    "plt.figure(figsize=(10, 5))\n",
    "sns.histplot(btc_data[\"Daily Return\"].dropna(), bins=50, kde=True)\n",
    "plt.title(\"Distribution des rendements quotidiens du Bitcoin\")\n",
    "plt.xlabel(\"Rendement\")\n",
    "plt.ylabel(\"Fréquence\")\n",
    "plt.show()\n"
   ]
  },
  {
   "cell_type": "code",
   "execution_count": null,
   "metadata": {},
   "outputs": [],
   "source": [
    "import matplotlib.pyplot as plt\n",
    "plt.figure(figsize=(15, 6))\n",
    "plt.plot(btc_data[\"Date\"], btc_data[\"Close\"], label=\"Prix de clôture\", color=\"blue\")\n",
    "plt.plot(btc_data[\"Date\"], btc_data[\"Open\"], label=\"Prix d’ouverture\", color=\"green\", linestyle=\"dashed\")\n",
    "plt.fill_between(btc_data[\"Date\"], btc_data[\"Low\"], btc_data[\"High\"], color=\"gray\", alpha=0.3)\n",
    "plt.xlabel(\"Date\")\n",
    "plt.ylabel(\"Prix (USD)\")\n",
    "plt.title(\"Évolution du prix du Bitcoin (Open, High, Low, Close)\")\n",
    "plt.legend()\n",
    "plt.show()"
   ]
  },
  {
   "cell_type": "code",
   "execution_count": null,
   "metadata": {},
   "outputs": [],
   "source": [
    "btc_data[\"SMA_50\"] = btc_data[\"Close\"].rolling(window=50).mean()\n",
    "btc_data[\"SMA_200\"] = btc_data[\"Close\"].rolling(window=200).mean()\n",
    "plt.figure(figsize=(15, 6))\n",
    "plt.plot(btc_data[\"Date\"], btc_data[\"Close\"], label=\"Prix de clôture\", color=\"gray\", alpha=0.5)\n",
    "plt.plot(btc_data[\"Date\"], btc_data[\"SMA_50\"], label=\"Moyenne Mobile 50 jours\", color=\"blue\")\n",
    "plt.plot(btc_data[\"Date\"], btc_data[\"SMA_200\"], label=\"Moyenne Mobile 200 jours\", color=\"red\")\n",
    "plt.xlabel(\"Date\")\n",
    "plt.ylabel(\"Prix (USD)\")\n",
    "plt.title(\"Tendances du Bitcoin avec Moyennes Mobiles\")\n",
    "plt.legend()\n",
    "plt.show()"
   ]
  },
  {
   "cell_type": "code",
   "execution_count": null,
   "metadata": {},
   "outputs": [],
   "source": [
    "import pandas as pd\n",
    "numeric_cols = ['Close', 'High', 'Low', 'Open', 'Volume']\n",
    "\n",
    "Q1 = btc_data[numeric_cols].quantile(0.25)\n",
    "Q3 = btc_data[numeric_cols].quantile(0.75)\n",
    "IQR = Q3 - Q1\n",
    "lower_bound = Q1 - 1.5 * IQR\n",
    "upper_bound = Q3 + 1.5 * IQR\n",
    "outliers = btc_data[\n",
    "    (btc_data[numeric_cols] < lower_bound) | (btc_data[numeric_cols] > upper_bound)\n",
    "].dropna(how='all')\n",
    "\n",
    "# Afficher les valeurs aberrantes\n",
    "import ace_tools_open as tools\n",
    "tools.display_dataframe_to_user(name=\"Valeurs Aberrantes du Bitcoin\", dataframe=outliers)\n"
   ]
  },
  {
   "cell_type": "code",
   "execution_count": null,
   "metadata": {},
   "outputs": [],
   "source": [
    "btc_data[\"Daily Return\"] = btc_data[\"Close\"].pct_change()\n",
    "plt.figure(figsize=(10, 5))\n",
    "sns.histplot(btc_data[\"Daily Return\"].dropna(), bins=50, kde=True)\n",
    "plt.title(\"Distribution des rendements quotidiens du Bitcoin\")\n",
    "plt.xlabel(\"Rendement\")\n",
    "plt.ylabel(\"Fréquence\")\n",
    "plt.show()\n"
   ]
  },
  {
   "cell_type": "code",
   "execution_count": null,
   "metadata": {},
   "outputs": [],
   "source": [
    "plt.figure(figsize=(15, 6))\n",
    "plt.plot(btc_data[\"Date\"], btc_data[\"Daily Return\"], label=\"Rendement Quotidien\", color=\"purple\", alpha=0.7)\n",
    "plt.axhline(y=0, color=\"black\", linestyle=\"dashed\")\n",
    "plt.xlabel(\"Date\")\n",
    "plt.ylabel(\"Rendement\")\n",
    "plt.title(\"Évolution des rendements quotidiens du Bitcoin\")\n",
    "plt.legend()\n",
    "plt.show()"
   ]
  },
  {
   "cell_type": "code",
   "execution_count": null,
   "metadata": {},
   "outputs": [],
   "source": [
    "volatility = btc_data[\"Daily Return\"].std() * (252 ** 0.5)\n",
    "print(f\"Volatilité Annuelle : {volatility:.2%}\")\n"
   ]
  },
  {
   "cell_type": "code",
   "execution_count": null,
   "metadata": {},
   "outputs": [],
   "source": [
    "btc_data[\"Year-Month\"] = btc_data[\"Date\"].dt.to_period(\"M\")\n",
    "monthly_volatility = btc_data.groupby(\"Year-Month\")[\"Daily Return\"].std()\n",
    "plt.figure(figsize=(12, 6))\n",
    "plt.plot(monthly_volatility.index.astype(str), monthly_volatility, marker='o', color=\"red\")\n",
    "plt.xticks(rotation=90)\n",
    "plt.title(\"Volatilité Mensuelle du Bitcoin\")\n",
    "plt.xlabel(\"Mois\")\n",
    "plt.ylabel(\"Écart-Type des Rendements\")\n",
    "plt.show()\n"
   ]
  }
 ],
 "metadata": {
  "kernelspec": {
   "display_name": "Python 3",
   "language": "python",
   "name": "python3"
  },
  "language_info": {
   "codemirror_mode": {
    "name": "ipython",
    "version": 3
   },
   "file_extension": ".py",
   "mimetype": "text/x-python",
   "name": "python",
   "nbconvert_exporter": "python",
   "pygments_lexer": "ipython3",
   "version": "3.12.7"
  }
 },
 "nbformat": 4,
 "nbformat_minor": 2
}
