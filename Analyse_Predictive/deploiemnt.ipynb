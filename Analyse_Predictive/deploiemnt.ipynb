{
 "cells": [
  {
   "cell_type": "code",
   "execution_count": null,
   "metadata": {
    "vscode": {
     "languageId": "plaintext"
    }
   },
   "outputs": [],
   "source": [
    "import pickle\n",
    "import json\n",
    "import os\n",
    "\n",
    "# Define a function to save model coefficients\n",
    "def save_model_coefficients(model, model_name, output_dir=\"model_coefficients\"):\n",
    "    os.makedirs(output_dir, exist_ok=True)\n",
    "    \n",
    "    coefficients = {}\n",
    "    \n",
    "    if hasattr(model, \"coef_\"):\n",
    "        coefficients[\"coefficients\"] = model.coef_.tolist()\n",
    "    if hasattr(model, \"intercept_\"):\n",
    "        coefficients[\"intercept\"] = model.intercept_.tolist()\n",
    "    if hasattr(model, \"params\"):\n",
    "        coefficients[\"parameters\"] = model.params.to_dict()\n",
    "    \n",
    "    # Save coefficients as JSON\n",
    "    json_path = os.path.join(output_dir, f\"{model_name}.json\")\n",
    "    with open(json_path, \"w\") as f:\n",
    "        json.dump(coefficients, f, indent=4)\n",
    "    \n",
    "    # Save model as pickle\n",
    "    pickle_path = os.path.join(output_dir, f\"{model_name}.pkl\")\n",
    "    with open(pickle_path, \"wb\") as f:\n",
    "        pickle.dump(model, f)\n",
    "    \n",
    "    print(f\"Coefficients saved for {model_name} in {output_dir}\")\n",
    "\n",
    "# Example usage (Replace these with actual trained models)\n",
    "# save_model_coefficients(model, \"logistic_regression_SPX\")\n",
    "# save_model_coefficients(model_new, \"logistic_regression_SPX_v2\")\n",
    "# save_model_coefficients(model_time, \"logistic_regression_Gold\")\n",
    "# save_model_coefficients(model, \"linear_regression_SPX\")\n"
   ]
  }
 ],
 "metadata": {
  "language_info": {
   "name": "python"
  }
 },
 "nbformat": 4,
 "nbformat_minor": 2
}
