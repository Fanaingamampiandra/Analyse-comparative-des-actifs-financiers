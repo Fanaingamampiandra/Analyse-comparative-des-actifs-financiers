{
 "cells": [
  {
   "cell_type": "code",
   "execution_count": null,
   "metadata": {},
   "outputs": [
    {
     "name": "stdout",
     "output_type": "stream",
     "text": [
      "             Close         High          Low         Open        Volume\n",
      "count  1535.000000  1535.000000  1535.000000  1535.000000  1.535000e+03\n",
      "mean   4066.804645  4088.892397  4041.517055  4065.902456  4.246306e+09\n",
      "std     892.126701   893.743214   890.620427   892.322155  1.021286e+09\n",
      "min    2237.400000  2300.730000  2191.860000  2290.710000  1.296530e+09\n",
      "25%    3288.710000  3305.885000  3269.920000  3286.915000  3.635455e+09\n",
      "50%    4101.230000  4129.480000  4072.560000  4095.410000  4.007510e+09\n",
      "75%    4536.645000  4558.390000  4516.745000  4540.705000  4.584180e+09\n",
      "max    6118.710000  6128.180000  6088.740000  6121.430000  9.976520e+09\n"
     ]
    }
   ],
   "source": [
    "import pandas as pd\n",
    "df = pd.read_csv(\"sp500_historical_data_cleaned.csv\")\n",
    "print(df.describe())"
   ]
  },
  {
   "cell_type": "code",
   "execution_count": 2,
   "metadata": {},
   "outputs": [
    {
     "name": "stdout",
     "output_type": "stream",
     "text": [
      "          Close      High       Low      Open        Volume\n",
      "count  1535.000  1535.000  1535.000  1535.000  1.535000e+03\n",
      "mean   4066.805  4088.892  4041.517  4065.902  4.246306e+09\n",
      "std     892.127   893.743   890.620   892.322  1.021286e+09\n",
      "min    2237.400  2300.730  2191.860  2290.710  1.296530e+09\n",
      "25%    3288.710  3305.885  3269.920  3286.915  3.635455e+09\n",
      "50%    4101.230  4129.480  4072.560  4095.410  4.007510e+09\n",
      "75%    4536.645  4558.390  4516.745  4540.705  4.584180e+09\n",
      "max    6118.710  6128.180  6088.740  6121.430  9.976520e+09\n"
     ]
    }
   ],
   "source": [
    "print(df.describe().round(3))\n"
   ]
  }
 ],
 "metadata": {
  "kernelspec": {
   "display_name": "Python 3",
   "language": "python",
   "name": "python3"
  },
  "language_info": {
   "codemirror_mode": {
    "name": "ipython",
    "version": 3
   },
   "file_extension": ".py",
   "mimetype": "text/x-python",
   "name": "python",
   "nbconvert_exporter": "python",
   "pygments_lexer": "ipython3",
   "version": "3.12.7"
  }
 },
 "nbformat": 4,
 "nbformat_minor": 2
}
